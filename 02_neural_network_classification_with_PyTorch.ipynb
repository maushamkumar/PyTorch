{
  "nbformat": 4,
  "nbformat_minor": 0,
  "metadata": {
    "colab": {
      "provenance": [],
      "authorship_tag": "ABX9TyMC0eF3hIMqqs7QsoYJFVJv",
      "include_colab_link": true
    },
    "kernelspec": {
      "name": "python3",
      "display_name": "Python 3"
    },
    "language_info": {
      "name": "python"
    }
  },
  "cells": [
    {
      "cell_type": "markdown",
      "metadata": {
        "id": "view-in-github",
        "colab_type": "text"
      },
      "source": [
        "<a href=\"https://colab.research.google.com/github/maushamkumar/PyTorch/blob/main/02_neural_network_classification_with_PyTorch.ipynb\" target=\"_parent\"><img src=\"https://colab.research.google.com/assets/colab-badge.svg\" alt=\"Open In Colab\"/></a>"
      ]
    },
    {
      "cell_type": "markdown",
      "source": [
        "## 02. Neural Networks classification with PyTorch\n",
        "\n",
        "Classification is a problem of predicting whether something is one thing or another (There can be multiple things as options )"
      ],
      "metadata": {
        "id": "G3oicpvsx3vT"
      }
    },
    {
      "cell_type": "markdown",
      "source": [
        "## 1. Make classification data and get it ready"
      ],
      "metadata": {
        "id": "adGFv90OyXR6"
      }
    },
    {
      "cell_type": "code",
      "execution_count": 1,
      "metadata": {
        "id": "67tDrbjewdK7"
      },
      "outputs": [],
      "source": [
        "import sklearn"
      ]
    },
    {
      "cell_type": "code",
      "source": [
        "from sklearn.datasets import make_circles\n",
        "\n",
        "# make 1000 samples\n",
        "n_samples = 1000\n",
        "\n",
        "# Create circles\n",
        "X, y = make_circles(n_samples,\n",
        "                    noise=0.03,\n",
        "                    random_state=42)"
      ],
      "metadata": {
        "id": "rYjrkfGayfoU"
      },
      "execution_count": 2,
      "outputs": []
    },
    {
      "cell_type": "code",
      "source": [
        "len(X), len(y)"
      ],
      "metadata": {
        "colab": {
          "base_uri": "https://localhost:8080/"
        },
        "id": "Ua_iVLtlyxix",
        "outputId": "99d42009-25a3-4073-dbe7-df444e06f3c7"
      },
      "execution_count": 3,
      "outputs": [
        {
          "output_type": "execute_result",
          "data": {
            "text/plain": [
              "(1000, 1000)"
            ]
          },
          "metadata": {},
          "execution_count": 3
        }
      ]
    },
    {
      "cell_type": "code",
      "source": [
        "print(f\"First 5 samples of X:\\n{X[:5]}\")\n",
        "print(f\"First 5 samples of y:\\n{y[:5]}\")"
      ],
      "metadata": {
        "colab": {
          "base_uri": "https://localhost:8080/"
        },
        "id": "QzU-RgNoyzbq",
        "outputId": "72c7860d-cce9-4ae2-987c-f6b3e73c926f"
      },
      "execution_count": 4,
      "outputs": [
        {
          "output_type": "stream",
          "name": "stdout",
          "text": [
            "First 5 samples of X:\n",
            "[[ 0.75424625  0.23148074]\n",
            " [-0.75615888  0.15325888]\n",
            " [-0.81539193  0.17328203]\n",
            " [-0.39373073  0.69288277]\n",
            " [ 0.44220765 -0.89672343]]\n",
            "First 5 samples of y:\n",
            "[1 1 1 1 0]\n"
          ]
        }
      ]
    },
    {
      "cell_type": "code",
      "source": [
        "# Make DataFrame of circle data\n",
        "import pandas as pd\n",
        "circles = pd.DataFrame({\"X1\": X[:, 0], \"X2\": X[:, 1], \"label\": y})"
      ],
      "metadata": {
        "id": "uzwY8xQRzDNB"
      },
      "execution_count": 5,
      "outputs": []
    },
    {
      "cell_type": "code",
      "source": [
        "circles.head(10)"
      ],
      "metadata": {
        "colab": {
          "base_uri": "https://localhost:8080/",
          "height": 363
        },
        "id": "QQunZlarzqNN",
        "outputId": "50425513-fd83-44e4-945f-e93c298224df"
      },
      "execution_count": 6,
      "outputs": [
        {
          "output_type": "execute_result",
          "data": {
            "text/plain": [
              "         X1        X2  label\n",
              "0  0.754246  0.231481      1\n",
              "1 -0.756159  0.153259      1\n",
              "2 -0.815392  0.173282      1\n",
              "3 -0.393731  0.692883      1\n",
              "4  0.442208 -0.896723      0\n",
              "5 -0.479646  0.676435      1\n",
              "6 -0.013648  0.803349      1\n",
              "7  0.771513  0.147760      1\n",
              "8 -0.169322 -0.793456      1\n",
              "9 -0.121486  1.021509      0"
            ],
            "text/html": [
              "\n",
              "  <div id=\"df-2b8671fb-4557-4e13-88c7-c2af786130e2\" class=\"colab-df-container\">\n",
              "    <div>\n",
              "<style scoped>\n",
              "    .dataframe tbody tr th:only-of-type {\n",
              "        vertical-align: middle;\n",
              "    }\n",
              "\n",
              "    .dataframe tbody tr th {\n",
              "        vertical-align: top;\n",
              "    }\n",
              "\n",
              "    .dataframe thead th {\n",
              "        text-align: right;\n",
              "    }\n",
              "</style>\n",
              "<table border=\"1\" class=\"dataframe\">\n",
              "  <thead>\n",
              "    <tr style=\"text-align: right;\">\n",
              "      <th></th>\n",
              "      <th>X1</th>\n",
              "      <th>X2</th>\n",
              "      <th>label</th>\n",
              "    </tr>\n",
              "  </thead>\n",
              "  <tbody>\n",
              "    <tr>\n",
              "      <th>0</th>\n",
              "      <td>0.754246</td>\n",
              "      <td>0.231481</td>\n",
              "      <td>1</td>\n",
              "    </tr>\n",
              "    <tr>\n",
              "      <th>1</th>\n",
              "      <td>-0.756159</td>\n",
              "      <td>0.153259</td>\n",
              "      <td>1</td>\n",
              "    </tr>\n",
              "    <tr>\n",
              "      <th>2</th>\n",
              "      <td>-0.815392</td>\n",
              "      <td>0.173282</td>\n",
              "      <td>1</td>\n",
              "    </tr>\n",
              "    <tr>\n",
              "      <th>3</th>\n",
              "      <td>-0.393731</td>\n",
              "      <td>0.692883</td>\n",
              "      <td>1</td>\n",
              "    </tr>\n",
              "    <tr>\n",
              "      <th>4</th>\n",
              "      <td>0.442208</td>\n",
              "      <td>-0.896723</td>\n",
              "      <td>0</td>\n",
              "    </tr>\n",
              "    <tr>\n",
              "      <th>5</th>\n",
              "      <td>-0.479646</td>\n",
              "      <td>0.676435</td>\n",
              "      <td>1</td>\n",
              "    </tr>\n",
              "    <tr>\n",
              "      <th>6</th>\n",
              "      <td>-0.013648</td>\n",
              "      <td>0.803349</td>\n",
              "      <td>1</td>\n",
              "    </tr>\n",
              "    <tr>\n",
              "      <th>7</th>\n",
              "      <td>0.771513</td>\n",
              "      <td>0.147760</td>\n",
              "      <td>1</td>\n",
              "    </tr>\n",
              "    <tr>\n",
              "      <th>8</th>\n",
              "      <td>-0.169322</td>\n",
              "      <td>-0.793456</td>\n",
              "      <td>1</td>\n",
              "    </tr>\n",
              "    <tr>\n",
              "      <th>9</th>\n",
              "      <td>-0.121486</td>\n",
              "      <td>1.021509</td>\n",
              "      <td>0</td>\n",
              "    </tr>\n",
              "  </tbody>\n",
              "</table>\n",
              "</div>\n",
              "    <div class=\"colab-df-buttons\">\n",
              "\n",
              "  <div class=\"colab-df-container\">\n",
              "    <button class=\"colab-df-convert\" onclick=\"convertToInteractive('df-2b8671fb-4557-4e13-88c7-c2af786130e2')\"\n",
              "            title=\"Convert this dataframe to an interactive table.\"\n",
              "            style=\"display:none;\">\n",
              "\n",
              "  <svg xmlns=\"http://www.w3.org/2000/svg\" height=\"24px\" viewBox=\"0 -960 960 960\">\n",
              "    <path d=\"M120-120v-720h720v720H120Zm60-500h600v-160H180v160Zm220 220h160v-160H400v160Zm0 220h160v-160H400v160ZM180-400h160v-160H180v160Zm440 0h160v-160H620v160ZM180-180h160v-160H180v160Zm440 0h160v-160H620v160Z\"/>\n",
              "  </svg>\n",
              "    </button>\n",
              "\n",
              "  <style>\n",
              "    .colab-df-container {\n",
              "      display:flex;\n",
              "      gap: 12px;\n",
              "    }\n",
              "\n",
              "    .colab-df-convert {\n",
              "      background-color: #E8F0FE;\n",
              "      border: none;\n",
              "      border-radius: 50%;\n",
              "      cursor: pointer;\n",
              "      display: none;\n",
              "      fill: #1967D2;\n",
              "      height: 32px;\n",
              "      padding: 0 0 0 0;\n",
              "      width: 32px;\n",
              "    }\n",
              "\n",
              "    .colab-df-convert:hover {\n",
              "      background-color: #E2EBFA;\n",
              "      box-shadow: 0px 1px 2px rgba(60, 64, 67, 0.3), 0px 1px 3px 1px rgba(60, 64, 67, 0.15);\n",
              "      fill: #174EA6;\n",
              "    }\n",
              "\n",
              "    .colab-df-buttons div {\n",
              "      margin-bottom: 4px;\n",
              "    }\n",
              "\n",
              "    [theme=dark] .colab-df-convert {\n",
              "      background-color: #3B4455;\n",
              "      fill: #D2E3FC;\n",
              "    }\n",
              "\n",
              "    [theme=dark] .colab-df-convert:hover {\n",
              "      background-color: #434B5C;\n",
              "      box-shadow: 0px 1px 3px 1px rgba(0, 0, 0, 0.15);\n",
              "      filter: drop-shadow(0px 1px 2px rgba(0, 0, 0, 0.3));\n",
              "      fill: #FFFFFF;\n",
              "    }\n",
              "  </style>\n",
              "\n",
              "    <script>\n",
              "      const buttonEl =\n",
              "        document.querySelector('#df-2b8671fb-4557-4e13-88c7-c2af786130e2 button.colab-df-convert');\n",
              "      buttonEl.style.display =\n",
              "        google.colab.kernel.accessAllowed ? 'block' : 'none';\n",
              "\n",
              "      async function convertToInteractive(key) {\n",
              "        const element = document.querySelector('#df-2b8671fb-4557-4e13-88c7-c2af786130e2');\n",
              "        const dataTable =\n",
              "          await google.colab.kernel.invokeFunction('convertToInteractive',\n",
              "                                                    [key], {});\n",
              "        if (!dataTable) return;\n",
              "\n",
              "        const docLinkHtml = 'Like what you see? Visit the ' +\n",
              "          '<a target=\"_blank\" href=https://colab.research.google.com/notebooks/data_table.ipynb>data table notebook</a>'\n",
              "          + ' to learn more about interactive tables.';\n",
              "        element.innerHTML = '';\n",
              "        dataTable['output_type'] = 'display_data';\n",
              "        await google.colab.output.renderOutput(dataTable, element);\n",
              "        const docLink = document.createElement('div');\n",
              "        docLink.innerHTML = docLinkHtml;\n",
              "        element.appendChild(docLink);\n",
              "      }\n",
              "    </script>\n",
              "  </div>\n",
              "\n",
              "\n",
              "<div id=\"df-208976af-c308-4f3a-95b7-e373ceeff54e\">\n",
              "  <button class=\"colab-df-quickchart\" onclick=\"quickchart('df-208976af-c308-4f3a-95b7-e373ceeff54e')\"\n",
              "            title=\"Suggest charts\"\n",
              "            style=\"display:none;\">\n",
              "\n",
              "<svg xmlns=\"http://www.w3.org/2000/svg\" height=\"24px\"viewBox=\"0 0 24 24\"\n",
              "     width=\"24px\">\n",
              "    <g>\n",
              "        <path d=\"M19 3H5c-1.1 0-2 .9-2 2v14c0 1.1.9 2 2 2h14c1.1 0 2-.9 2-2V5c0-1.1-.9-2-2-2zM9 17H7v-7h2v7zm4 0h-2V7h2v10zm4 0h-2v-4h2v4z\"/>\n",
              "    </g>\n",
              "</svg>\n",
              "  </button>\n",
              "\n",
              "<style>\n",
              "  .colab-df-quickchart {\n",
              "      --bg-color: #E8F0FE;\n",
              "      --fill-color: #1967D2;\n",
              "      --hover-bg-color: #E2EBFA;\n",
              "      --hover-fill-color: #174EA6;\n",
              "      --disabled-fill-color: #AAA;\n",
              "      --disabled-bg-color: #DDD;\n",
              "  }\n",
              "\n",
              "  [theme=dark] .colab-df-quickchart {\n",
              "      --bg-color: #3B4455;\n",
              "      --fill-color: #D2E3FC;\n",
              "      --hover-bg-color: #434B5C;\n",
              "      --hover-fill-color: #FFFFFF;\n",
              "      --disabled-bg-color: #3B4455;\n",
              "      --disabled-fill-color: #666;\n",
              "  }\n",
              "\n",
              "  .colab-df-quickchart {\n",
              "    background-color: var(--bg-color);\n",
              "    border: none;\n",
              "    border-radius: 50%;\n",
              "    cursor: pointer;\n",
              "    display: none;\n",
              "    fill: var(--fill-color);\n",
              "    height: 32px;\n",
              "    padding: 0;\n",
              "    width: 32px;\n",
              "  }\n",
              "\n",
              "  .colab-df-quickchart:hover {\n",
              "    background-color: var(--hover-bg-color);\n",
              "    box-shadow: 0 1px 2px rgba(60, 64, 67, 0.3), 0 1px 3px 1px rgba(60, 64, 67, 0.15);\n",
              "    fill: var(--button-hover-fill-color);\n",
              "  }\n",
              "\n",
              "  .colab-df-quickchart-complete:disabled,\n",
              "  .colab-df-quickchart-complete:disabled:hover {\n",
              "    background-color: var(--disabled-bg-color);\n",
              "    fill: var(--disabled-fill-color);\n",
              "    box-shadow: none;\n",
              "  }\n",
              "\n",
              "  .colab-df-spinner {\n",
              "    border: 2px solid var(--fill-color);\n",
              "    border-color: transparent;\n",
              "    border-bottom-color: var(--fill-color);\n",
              "    animation:\n",
              "      spin 1s steps(1) infinite;\n",
              "  }\n",
              "\n",
              "  @keyframes spin {\n",
              "    0% {\n",
              "      border-color: transparent;\n",
              "      border-bottom-color: var(--fill-color);\n",
              "      border-left-color: var(--fill-color);\n",
              "    }\n",
              "    20% {\n",
              "      border-color: transparent;\n",
              "      border-left-color: var(--fill-color);\n",
              "      border-top-color: var(--fill-color);\n",
              "    }\n",
              "    30% {\n",
              "      border-color: transparent;\n",
              "      border-left-color: var(--fill-color);\n",
              "      border-top-color: var(--fill-color);\n",
              "      border-right-color: var(--fill-color);\n",
              "    }\n",
              "    40% {\n",
              "      border-color: transparent;\n",
              "      border-right-color: var(--fill-color);\n",
              "      border-top-color: var(--fill-color);\n",
              "    }\n",
              "    60% {\n",
              "      border-color: transparent;\n",
              "      border-right-color: var(--fill-color);\n",
              "    }\n",
              "    80% {\n",
              "      border-color: transparent;\n",
              "      border-right-color: var(--fill-color);\n",
              "      border-bottom-color: var(--fill-color);\n",
              "    }\n",
              "    90% {\n",
              "      border-color: transparent;\n",
              "      border-bottom-color: var(--fill-color);\n",
              "    }\n",
              "  }\n",
              "</style>\n",
              "\n",
              "  <script>\n",
              "    async function quickchart(key) {\n",
              "      const quickchartButtonEl =\n",
              "        document.querySelector('#' + key + ' button');\n",
              "      quickchartButtonEl.disabled = true;  // To prevent multiple clicks.\n",
              "      quickchartButtonEl.classList.add('colab-df-spinner');\n",
              "      try {\n",
              "        const charts = await google.colab.kernel.invokeFunction(\n",
              "            'suggestCharts', [key], {});\n",
              "      } catch (error) {\n",
              "        console.error('Error during call to suggestCharts:', error);\n",
              "      }\n",
              "      quickchartButtonEl.classList.remove('colab-df-spinner');\n",
              "      quickchartButtonEl.classList.add('colab-df-quickchart-complete');\n",
              "    }\n",
              "    (() => {\n",
              "      let quickchartButtonEl =\n",
              "        document.querySelector('#df-208976af-c308-4f3a-95b7-e373ceeff54e button');\n",
              "      quickchartButtonEl.style.display =\n",
              "        google.colab.kernel.accessAllowed ? 'block' : 'none';\n",
              "    })();\n",
              "  </script>\n",
              "</div>\n",
              "\n",
              "    </div>\n",
              "  </div>\n"
            ],
            "application/vnd.google.colaboratory.intrinsic+json": {
              "type": "dataframe",
              "variable_name": "circles",
              "summary": "{\n  \"name\": \"circles\",\n  \"rows\": 1000,\n  \"fields\": [\n    {\n      \"column\": \"X1\",\n      \"properties\": {\n        \"dtype\": \"number\",\n        \"std\": 0.6398365674574613,\n        \"min\": -1.0595024599098635,\n        \"max\": 1.0337117525463373,\n        \"num_unique_values\": 1000,\n        \"samples\": [\n          -0.3751930206933384,\n          0.015380346701456493,\n          -0.7027835978832848\n        ],\n        \"semantic_type\": \"\",\n        \"description\": \"\"\n      }\n    },\n    {\n      \"column\": \"X2\",\n      \"properties\": {\n        \"dtype\": \"number\",\n        \"std\": 0.6411559581015384,\n        \"min\": -1.0677683182718436,\n        \"max\": 1.0360036756154805,\n        \"num_unique_values\": 1000,\n        \"samples\": [\n          0.6826597225888621,\n          0.9600260220697324,\n          -0.3147169925147762\n        ],\n        \"semantic_type\": \"\",\n        \"description\": \"\"\n      }\n    },\n    {\n      \"column\": \"label\",\n      \"properties\": {\n        \"dtype\": \"number\",\n        \"std\": 0,\n        \"min\": 0,\n        \"max\": 1,\n        \"num_unique_values\": 2,\n        \"samples\": [\n          0,\n          1\n        ],\n        \"semantic_type\": \"\",\n        \"description\": \"\"\n      }\n    }\n  ]\n}"
            }
          },
          "metadata": {},
          "execution_count": 6
        }
      ]
    },
    {
      "cell_type": "code",
      "source": [
        "# prompt: Using dataframe circles: scatter plot\n",
        "\n",
        "import altair as alt\n",
        "chart = alt.Chart(circles).mark_circle().encode(x='X1', y='X2', color='label')\n",
        "chart\n"
      ],
      "metadata": {
        "colab": {
          "base_uri": "https://localhost:8080/",
          "height": 368
        },
        "id": "5NVeZu6-zxEZ",
        "outputId": "8c50e765-5ff7-4da7-8de7-d6f1f01fc2db"
      },
      "execution_count": 7,
      "outputs": [
        {
          "output_type": "execute_result",
          "data": {
            "text/html": [
              "\n",
              "<div id=\"altair-viz-26c09b8b75a74669aa49db30fe7dd2e1\"></div>\n",
              "<script type=\"text/javascript\">\n",
              "  var VEGA_DEBUG = (typeof VEGA_DEBUG == \"undefined\") ? {} : VEGA_DEBUG;\n",
              "  (function(spec, embedOpt){\n",
              "    let outputDiv = document.currentScript.previousElementSibling;\n",
              "    if (outputDiv.id !== \"altair-viz-26c09b8b75a74669aa49db30fe7dd2e1\") {\n",
              "      outputDiv = document.getElementById(\"altair-viz-26c09b8b75a74669aa49db30fe7dd2e1\");\n",
              "    }\n",
              "    const paths = {\n",
              "      \"vega\": \"https://cdn.jsdelivr.net/npm//vega@5?noext\",\n",
              "      \"vega-lib\": \"https://cdn.jsdelivr.net/npm//vega-lib?noext\",\n",
              "      \"vega-lite\": \"https://cdn.jsdelivr.net/npm//vega-lite@4.17.0?noext\",\n",
              "      \"vega-embed\": \"https://cdn.jsdelivr.net/npm//vega-embed@6?noext\",\n",
              "    };\n",
              "\n",
              "    function maybeLoadScript(lib, version) {\n",
              "      var key = `${lib.replace(\"-\", \"\")}_version`;\n",
              "      return (VEGA_DEBUG[key] == version) ?\n",
              "        Promise.resolve(paths[lib]) :\n",
              "        new Promise(function(resolve, reject) {\n",
              "          var s = document.createElement('script');\n",
              "          document.getElementsByTagName(\"head\")[0].appendChild(s);\n",
              "          s.async = true;\n",
              "          s.onload = () => {\n",
              "            VEGA_DEBUG[key] = version;\n",
              "            return resolve(paths[lib]);\n",
              "          };\n",
              "          s.onerror = () => reject(`Error loading script: ${paths[lib]}`);\n",
              "          s.src = paths[lib];\n",
              "        });\n",
              "    }\n",
              "\n",
              "    function showError(err) {\n",
              "      outputDiv.innerHTML = `<div class=\"error\" style=\"color:red;\">${err}</div>`;\n",
              "      throw err;\n",
              "    }\n",
              "\n",
              "    function displayChart(vegaEmbed) {\n",
              "      vegaEmbed(outputDiv, spec, embedOpt)\n",
              "        .catch(err => showError(`Javascript Error: ${err.message}<br>This usually means there's a typo in your chart specification. See the javascript console for the full traceback.`));\n",
              "    }\n",
              "\n",
              "    if(typeof define === \"function\" && define.amd) {\n",
              "      requirejs.config({paths});\n",
              "      require([\"vega-embed\"], displayChart, err => showError(`Error loading script: ${err.message}`));\n",
              "    } else {\n",
              "      maybeLoadScript(\"vega\", \"5\")\n",
              "        .then(() => maybeLoadScript(\"vega-lite\", \"4.17.0\"))\n",
              "        .then(() => maybeLoadScript(\"vega-embed\", \"6\"))\n",
              "        .catch(showError)\n",
              "        .then(() => displayChart(vegaEmbed));\n",
              "    }\n",
              "  })({\"config\": {\"view\": {\"continuousWidth\": 400, \"continuousHeight\": 300}}, \"data\": {\"name\": \"data-e0349a9d40d0c7fa4d7fbaee2ed5040f\"}, \"mark\": \"circle\", \"encoding\": {\"color\": {\"field\": \"label\", \"type\": \"quantitative\"}, \"x\": {\"field\": \"X1\", \"type\": \"quantitative\"}, \"y\": {\"field\": \"X2\", \"type\": \"quantitative\"}}, \"$schema\": \"https://vega.github.io/schema/vega-lite/v4.17.0.json\", \"datasets\": {\"data-e0349a9d40d0c7fa4d7fbaee2ed5040f\": [{\"X1\": 0.7542462506997276, \"X2\": 0.23148073787097836, \"label\": 1}, {\"X1\": -0.7561588822214413, \"X2\": 0.15325887663494678, \"label\": 1}, {\"X1\": -0.8153919335251194, \"X2\": 0.17328202920351576, \"label\": 1}, {\"X1\": -0.393730728902315, \"X2\": 0.6928827699017868, \"label\": 1}, {\"X1\": 0.4422076451826442, \"X2\": -0.8967234339920015, \"label\": 0}, {\"X1\": -0.4796463680909052, \"X2\": 0.6764347685615512, \"label\": 1}, {\"X1\": -0.01364835948765009, \"X2\": 0.8033487191694424, \"label\": 1}, {\"X1\": 0.771513273784567, \"X2\": 0.14775958770972614, \"label\": 1}, {\"X1\": -0.1693223397310359, \"X2\": -0.7934557525393878, \"label\": 1}, {\"X1\": -0.12148579609572473, \"X2\": 1.0215090535090692, \"label\": 0}, {\"X1\": -0.6424904164605417, \"X2\": -0.5440992919100412, \"label\": 1}, {\"X1\": 0.5694666038619414, \"X2\": 0.8447677588470263, \"label\": 0}, {\"X1\": -0.11773591057994579, \"X2\": 0.83140071355219, \"label\": 1}, {\"X1\": 0.7341000380997706, \"X2\": -0.33316553284716566, \"label\": 1}, {\"X1\": 0.6007763329875784, \"X2\": -0.5874263247064434, \"label\": 1}, {\"X1\": 0.1902257071593219, \"X2\": -0.7634100332379965, \"label\": 1}, {\"X1\": -0.9369518458691565, \"X2\": -0.3434314034123277, \"label\": 0}, {\"X1\": 0.10706169647542807, \"X2\": -0.7930922002083585, \"label\": 1}, {\"X1\": -0.8189136188148606, \"X2\": -0.10162399471098164, \"label\": 1}, {\"X1\": -0.6421001301658269, \"X2\": -0.7453744107773587, \"label\": 0}, {\"X1\": 0.6268271991614062, \"X2\": 0.4500469765427875, \"label\": 1}, {\"X1\": -0.5622913599321847, \"X2\": 0.8537590623741356, \"label\": 0}, {\"X1\": -0.021266657940981575, \"X2\": -0.9962753104714336, \"label\": 0}, {\"X1\": 0.7397705779966571, \"X2\": 0.2783702523787685, \"label\": 1}, {\"X1\": -0.9090483931626677, \"X2\": 0.45724363092388837, \"label\": 0}, {\"X1\": -0.9369941113549001, \"X2\": 0.19944234898713223, \"label\": 0}, {\"X1\": 0.2866157795638462, \"X2\": 0.979738705284201, \"label\": 0}, {\"X1\": 0.8262607165388521, \"X2\": -0.15335757392759, \"label\": 1}, {\"X1\": 0.25343339734490505, \"X2\": -0.7709718019147017, \"label\": 1}, {\"X1\": 0.6579462552707562, \"X2\": -0.4650809670466636, \"label\": 1}, {\"X1\": -0.31483477907451746, \"X2\": -0.9040708539611471, \"label\": 0}, {\"X1\": -0.2239896013581317, \"X2\": 0.9929932641567513, \"label\": 0}, {\"X1\": 0.008443892458404115, \"X2\": 0.7836021340356716, \"label\": 1}, {\"X1\": 1.005038870311242, \"X2\": 0.012500922067145042, \"label\": 0}, {\"X1\": -0.08951581980284554, \"X2\": -1.0677683182718436, \"label\": 0}, {\"X1\": -0.7885744733936725, \"X2\": 0.6872374451965618, \"label\": 0}, {\"X1\": -0.5682053624291838, \"X2\": 0.5706360048159362, \"label\": 1}, {\"X1\": 0.4476467817947157, \"X2\": 0.7138552423074742, \"label\": 1}, {\"X1\": 0.2632607189552557, \"X2\": -0.7444151440363913, \"label\": 1}, {\"X1\": 0.7450204353353833, \"X2\": 0.6411401752763233, \"label\": 0}, {\"X1\": -0.5971189712221787, \"X2\": -0.7739910558320857, \"label\": 0}, {\"X1\": 0.3619283792704055, \"X2\": 0.937331805734003, \"label\": 0}, {\"X1\": -0.7142425071309714, \"X2\": -0.6792177717703558, \"label\": 0}, {\"X1\": 0.8338393770479202, \"X2\": -0.2410363078325334, \"label\": 1}, {\"X1\": -0.8339818555066204, \"X2\": -0.5815747291590141, \"label\": 0}, {\"X1\": -0.9108606418767068, \"X2\": -0.35030356256537665, \"label\": 0}, {\"X1\": 0.4876255574087219, \"X2\": -0.7226935217930912, \"label\": 1}, {\"X1\": 0.2307368781182363, \"X2\": 0.7827358362017345, \"label\": 1}, {\"X1\": 0.7584127912851786, \"X2\": -0.7182075323240764, \"label\": 0}, {\"X1\": -0.4127468390261082, \"X2\": -0.7183312139975903, \"label\": 1}, {\"X1\": 0.4761766215665452, \"X2\": 0.6119394942187456, \"label\": 1}, {\"X1\": 0.03999585090487873, \"X2\": -0.8385639166408724, \"label\": 1}, {\"X1\": -0.9663282523933252, \"X2\": -0.14250670748557176, \"label\": 0}, {\"X1\": 0.4779142892607109, \"X2\": 0.6091295621477674, \"label\": 1}, {\"X1\": 0.9280060239010142, \"X2\": 0.3005193417294198, \"label\": 0}, {\"X1\": 0.9058031687634934, \"X2\": 0.36318848294318706, \"label\": 0}, {\"X1\": 0.08031034540768718, \"X2\": 0.8007084930136412, \"label\": 1}, {\"X1\": 0.9717877149324666, \"X2\": 0.12981183046847858, \"label\": 0}, {\"X1\": -0.9578052536136464, \"X2\": 0.3766402927756541, \"label\": 0}, {\"X1\": -0.5133845123834423, \"X2\": -0.611759495512766, \"label\": 1}, {\"X1\": -0.7604302348514318, \"X2\": -0.5796074803722696, \"label\": 0}, {\"X1\": 0.820119769638232, \"X2\": 0.5479108205792194, \"label\": 0}, {\"X1\": 0.6287874341067, \"X2\": 0.36567935897798154, \"label\": 1}, {\"X1\": -0.9055096056277738, \"X2\": 0.4988383954924571, \"label\": 0}, {\"X1\": 0.21736847295697165, \"X2\": 0.7646606730154483, \"label\": 1}, {\"X1\": -0.6012492553422195, \"X2\": 0.5486424367753512, \"label\": 1}, {\"X1\": -0.33370985654340346, \"X2\": 0.6752769688377184, \"label\": 1}, {\"X1\": -0.10114183703577566, \"X2\": -0.7969767431033971, \"label\": 1}, {\"X1\": 0.6519834696455034, \"X2\": 0.7473332285075851, \"label\": 0}, {\"X1\": 0.6833446896871117, \"X2\": 0.4124511360610199, \"label\": 1}, {\"X1\": 0.2031366578455953, \"X2\": 0.9526774182881406, \"label\": 0}, {\"X1\": 0.9990959824722926, \"X2\": -0.09176155093035952, \"label\": 0}, {\"X1\": 0.3556377588346771, \"X2\": 0.6922638803534658, \"label\": 1}, {\"X1\": -0.8054094942523703, \"X2\": 0.08340862635217738, \"label\": 1}, {\"X1\": -0.8395074999491272, \"X2\": -0.5318356148727978, \"label\": 0}, {\"X1\": -0.8752516662803007, \"X2\": -0.463121266939196, \"label\": 0}, {\"X1\": -0.21686371833799023, \"X2\": 0.7241797477851037, \"label\": 1}, {\"X1\": 0.8625742268914285, \"X2\": 0.44258326169863293, \"label\": 0}, {\"X1\": 0.2995992381586943, \"X2\": 0.7724648092809785, \"label\": 1}, {\"X1\": -0.7914964176645775, \"X2\": -0.6810749180246018, \"label\": 0}, {\"X1\": -0.46268009378409547, \"X2\": 0.5701766298454723, \"label\": 1}, {\"X1\": 0.6980233551996459, \"X2\": 0.6951223869979206, \"label\": 0}, {\"X1\": -0.9136556741992661, \"X2\": -0.37411332498617306, \"label\": 0}, {\"X1\": 0.6134077849467318, \"X2\": 0.7295934783754149, \"label\": 0}, {\"X1\": -0.6274310750477744, \"X2\": -0.755180128255201, \"label\": 0}, {\"X1\": 0.6487546259161449, \"X2\": 0.4941964855253468, \"label\": 1}, {\"X1\": 0.8644045375796322, \"X2\": 6.36421777435274e-05, \"label\": 1}, {\"X1\": -0.7382098363461355, \"X2\": 0.33714832230046815, \"label\": 1}, {\"X1\": -0.8380849995051912, \"X2\": -0.027127623468326225, \"label\": 1}, {\"X1\": -0.6161567387060463, \"X2\": -0.8069766879691425, \"label\": 0}, {\"X1\": 0.14801841791994144, \"X2\": -0.974605861749381, \"label\": 0}, {\"X1\": 0.8022648191113358, \"X2\": -0.5617645810433141, \"label\": 0}, {\"X1\": 0.818238140623845, \"X2\": 0.26547638747169433, \"label\": 1}, {\"X1\": -0.9503445841127715, \"X2\": 0.40668255852467206, \"label\": 0}, {\"X1\": -0.719816184023117, \"X2\": -0.33450877543461544, \"label\": 1}, {\"X1\": 0.7051617244273082, \"X2\": -0.7914006671724403, \"label\": 0}, {\"X1\": -0.7980918602122695, \"X2\": -0.13406169629333214, \"label\": 1}, {\"X1\": 0.40535226707526684, \"X2\": 0.9112720844472434, \"label\": 0}, {\"X1\": 0.6569295125470382, \"X2\": 0.6875825057867737, \"label\": 0}, {\"X1\": -0.4218188051468101, \"X2\": -0.6795847342396752, \"label\": 1}, {\"X1\": -0.7108657677719463, \"X2\": 0.2788932532573665, \"label\": 1}, {\"X1\": -0.23460214187408074, \"X2\": -0.9640011539012606, \"label\": 0}, {\"X1\": 0.5577822688586757, \"X2\": -0.5708761160138565, \"label\": 1}, {\"X1\": -0.9789318943306732, \"X2\": -0.1209022050175181, \"label\": 0}, {\"X1\": -0.1004266809765434, \"X2\": 0.7739286962781415, \"label\": 1}, {\"X1\": -0.23988591440132784, \"X2\": 0.8069190523356005, \"label\": 1}, {\"X1\": 0.612204651745631, \"X2\": 0.5094287018009361, \"label\": 1}, {\"X1\": 0.7015423662974624, \"X2\": -0.40422744140991673, \"label\": 1}, {\"X1\": -0.4551887131725831, \"X2\": 0.8561087166147819, \"label\": 0}, {\"X1\": 0.35615999177830854, \"X2\": -0.7031501745597679, \"label\": 1}, {\"X1\": 0.7659792147264626, \"X2\": 0.29169219182073014, \"label\": 1}, {\"X1\": -0.5189776662135368, \"X2\": -0.6073078436979255, \"label\": 1}, {\"X1\": 0.7329437927168199, \"X2\": -0.11558099559008722, \"label\": 1}, {\"X1\": -0.5798466831709416, \"X2\": -0.5967978504567996, \"label\": 1}, {\"X1\": 0.5026409925061335, \"X2\": 0.8858793965015653, \"label\": 0}, {\"X1\": 0.6810867112843639, \"X2\": -0.7356915219448055, \"label\": 0}, {\"X1\": -0.6367447497188864, \"X2\": 0.7693794128855853, \"label\": 0}, {\"X1\": 0.7560098080127755, \"X2\": -0.1993732994000562, \"label\": 1}, {\"X1\": 0.6822882206970642, \"X2\": 0.3297633175744938, \"label\": 1}, {\"X1\": -0.8264399397555356, \"X2\": -0.5211592003339158, \"label\": 0}, {\"X1\": 0.18300487988315617, \"X2\": -0.7882126701335286, \"label\": 1}, {\"X1\": 0.6216573354185272, \"X2\": -0.8114294675862174, \"label\": 0}, {\"X1\": -0.7290366447931326, \"X2\": 0.3853020952490975, \"label\": 1}, {\"X1\": -1.0342694989854118, \"X2\": -0.11030223325878394, \"label\": 0}, {\"X1\": -1.0179604904346824, \"X2\": 0.20097497007202828, \"label\": 0}, {\"X1\": 0.5821796762891351, \"X2\": 0.5443157881214103, \"label\": 1}, {\"X1\": 0.4152756732079324, \"X2\": 0.6332481958648435, \"label\": 1}, {\"X1\": 0.7509956975290837, \"X2\": -0.606117612470093, \"label\": 0}, {\"X1\": -0.05425642115584538, \"X2\": -0.7874698474231837, \"label\": 1}, {\"X1\": -0.6876975026427236, \"X2\": -0.45266309800822135, \"label\": 1}, {\"X1\": 0.2781568755519309, \"X2\": 0.7590891603895079, \"label\": 1}, {\"X1\": -0.22005975932802413, \"X2\": -0.7781815976996991, \"label\": 1}, {\"X1\": -0.9975829780536879, \"X2\": -0.2619196619582992, \"label\": 0}, {\"X1\": 0.8260162080470472, \"X2\": -0.040816556719346586, \"label\": 1}, {\"X1\": 0.6970085442112928, \"X2\": 0.23237153297077623, \"label\": 1}, {\"X1\": 0.7443343239546588, \"X2\": 0.6612337280081003, \"label\": 0}, {\"X1\": 0.05377970488665445, \"X2\": 0.9738831209284619, \"label\": 0}, {\"X1\": -0.9350105292585245, \"X2\": 0.39425193283022686, \"label\": 0}, {\"X1\": 0.8930461672619268, \"X2\": 0.2727951194255562, \"label\": 0}, {\"X1\": 0.5857422707000193, \"X2\": 0.8067671292303333, \"label\": 0}, {\"X1\": 0.8460227902002934, \"X2\": 0.5004070846707719, \"label\": 0}, {\"X1\": -0.9299977899784035, \"X2\": 0.017773275263534564, \"label\": 0}, {\"X1\": -0.7124500665337805, \"X2\": 0.3337627597042321, \"label\": 1}, {\"X1\": -0.9721760169641783, \"X2\": -0.3775602065995941, \"label\": 0}, {\"X1\": 0.1638905992322582, \"X2\": -0.7975892301260418, \"label\": 1}, {\"X1\": 0.39322445023647357, \"X2\": -0.724519096040661, \"label\": 1}, {\"X1\": -0.5980539733269234, \"X2\": -0.5526811316117098, \"label\": 1}, {\"X1\": -1.0083608783119111, \"X2\": 0.04011969931756884, \"label\": 0}, {\"X1\": -0.470410495326843, \"X2\": -0.5975748175540674, \"label\": 1}, {\"X1\": -0.6173828036046437, \"X2\": -0.7897588810976915, \"label\": 0}, {\"X1\": -0.20057293084939845, \"X2\": 0.7585128963414683, \"label\": 1}, {\"X1\": -0.3321851447626815, \"X2\": 0.9433763216679169, \"label\": 0}, {\"X1\": 0.7416141288564005, \"X2\": -0.2230744751528667, \"label\": 1}, {\"X1\": 0.6168153105377199, \"X2\": -0.7609482902823346, \"label\": 0}, {\"X1\": 0.6063154669702193, \"X2\": -0.5077579568796556, \"label\": 1}, {\"X1\": 0.8626197550536787, \"X2\": -0.45643780166234377, \"label\": 0}, {\"X1\": -0.7899695269068997, \"X2\": -0.7130530171338897, \"label\": 0}, {\"X1\": -0.6025077206125198, \"X2\": 0.4657671767301077, \"label\": 1}, {\"X1\": 0.703741363479976, \"X2\": 0.6842987636921872, \"label\": 0}, {\"X1\": 0.11112793882418144, \"X2\": -0.8267138522910296, \"label\": 1}, {\"X1\": 0.1900753772849398, \"X2\": 0.7177144914462958, \"label\": 1}, {\"X1\": -0.7456456565159697, \"X2\": -0.1593116364071374, \"label\": 1}, {\"X1\": -0.19791702114801157, \"X2\": 0.7299371515333336, \"label\": 1}, {\"X1\": -0.29639548352987977, \"X2\": 0.7747216696155491, \"label\": 1}, {\"X1\": -0.0930659047208916, \"X2\": -0.7845251314402646, \"label\": 1}, {\"X1\": -0.3835617277456882, \"X2\": 0.6986718726722897, \"label\": 1}, {\"X1\": -0.8113640698342159, \"X2\": -0.5458187387127222, \"label\": 0}, {\"X1\": -0.5611747209447148, \"X2\": 0.5806460226017661, \"label\": 1}, {\"X1\": -0.6633976810694475, \"X2\": -0.6743583608506795, \"label\": 0}, {\"X1\": -0.7484443671685219, \"X2\": -0.6701302427063663, \"label\": 0}, {\"X1\": -0.18613276003319484, \"X2\": -1.0095711041475834, \"label\": 0}, {\"X1\": 0.9446954292008629, \"X2\": -0.245992840763051, \"label\": 0}, {\"X1\": 0.19992889122930452, \"X2\": 0.9942996116058418, \"label\": 0}, {\"X1\": 0.7855977311302411, \"X2\": -0.11012979001235784, \"label\": 1}, {\"X1\": 1.009096915405487, \"X2\": -0.21970485076475518, \"label\": 0}, {\"X1\": -0.1494863261678992, \"X2\": -0.9859530602941103, \"label\": 0}, {\"X1\": -0.976137828533688, \"X2\": -0.09075177053805417, \"label\": 0}, {\"X1\": -0.9487572981544861, \"X2\": -0.10644747214062633, \"label\": 0}, {\"X1\": -0.6271949025174202, \"X2\": -0.4983856308756512, \"label\": 1}, {\"X1\": -0.47020356751177905, \"X2\": 0.6366309404267614, \"label\": 1}, {\"X1\": 1.033428358583808, \"X2\": -0.11857163296984118, \"label\": 0}, {\"X1\": -0.42339506108648195, \"X2\": 0.687717710852935, \"label\": 1}, {\"X1\": 0.019538923612444758, \"X2\": -1.0118241639825114, \"label\": 0}, {\"X1\": 0.7467899256267343, \"X2\": 0.26199406592680247, \"label\": 1}, {\"X1\": -0.3487984091771634, \"X2\": -0.7148707398787043, \"label\": 1}, {\"X1\": -0.16462954515163267, \"X2\": 0.9924858256589174, \"label\": 0}, {\"X1\": -0.23767681916121242, \"X2\": -0.9843573227480199, \"label\": 0}, {\"X1\": -0.1292643857742736, \"X2\": -1.053171908533243, \"label\": 0}, {\"X1\": 0.6187166245593377, \"X2\": -0.5004074239377365, \"label\": 1}, {\"X1\": -0.8509666419212155, \"X2\": -0.00214195439420594, \"label\": 1}, {\"X1\": 0.5982962375710441, \"X2\": -0.4916764478003062, \"label\": 1}, {\"X1\": -0.4176563873457863, \"X2\": -0.6404031650560148, \"label\": 1}, {\"X1\": -0.27016768073463554, \"X2\": 0.7793780802083329, \"label\": 1}, {\"X1\": -0.8082393682245437, \"X2\": 0.5634962241955155, \"label\": 0}, {\"X1\": -0.8972791331605028, \"X2\": 0.4673812411591396, \"label\": 0}, {\"X1\": 0.36608864228603677, \"X2\": -0.8654370640174703, \"label\": 0}, {\"X1\": -0.4875028776186965, \"X2\": -0.863723671246592, \"label\": 0}, {\"X1\": -0.8852495751051725, \"X2\": 0.4835495692023816, \"label\": 0}, {\"X1\": 0.12240665771061031, \"X2\": 0.7840393177084207, \"label\": 1}, {\"X1\": 0.5853906991466667, \"X2\": 0.8203066243467338, \"label\": 0}, {\"X1\": 0.9494939967749567, \"X2\": 0.3555441321880047, \"label\": 0}, {\"X1\": 0.7319517226947277, \"X2\": 0.33372174018416667, \"label\": 1}, {\"X1\": -0.5951791279831429, \"X2\": 0.5316153942076539, \"label\": 1}, {\"X1\": 0.6171989753635474, \"X2\": 0.5434940344168504, \"label\": 1}, {\"X1\": -0.4048942090585576, \"X2\": -0.6961356082606934, \"label\": 1}, {\"X1\": 0.32260555599522667, \"X2\": 0.7622052909758745, \"label\": 1}, {\"X1\": -0.5126751991857611, \"X2\": 0.8748136847543909, \"label\": 0}, {\"X1\": 0.4228009651753964, \"X2\": -0.7087433104618711, \"label\": 1}, {\"X1\": 0.957278592526571, \"X2\": -0.07227345558240908, \"label\": 0}, {\"X1\": -0.5005489586850463, \"X2\": -0.6416822588384002, \"label\": 1}, {\"X1\": 0.6368049665037999, \"X2\": 0.7459096592974962, \"label\": 0}, {\"X1\": -0.21874813157320783, \"X2\": 1.0097276194846876, \"label\": 0}, {\"X1\": 0.461921236640087, \"X2\": -0.6479752668914927, \"label\": 1}, {\"X1\": -0.4590062056623127, \"X2\": -0.6794708688057501, \"label\": 1}, {\"X1\": -0.22033125827956257, \"X2\": 0.7289452033703826, \"label\": 1}, {\"X1\": -0.49446898428732544, \"X2\": -0.883803350176594, \"label\": 0}, {\"X1\": -0.3653992039994713, \"X2\": 0.7201991460659177, \"label\": 1}, {\"X1\": -1.00064635351676, \"X2\": -0.004564101705834805, \"label\": 0}, {\"X1\": 0.3051992763913434, \"X2\": -0.7482841629518898, \"label\": 1}, {\"X1\": -0.6190779452992046, \"X2\": 0.40222046862526417, \"label\": 1}, {\"X1\": -0.7547665794158708, \"X2\": -0.5839752370359286, \"label\": 0}, {\"X1\": -0.810173601946623, \"X2\": 0.16089779140656377, \"label\": 1}, {\"X1\": 0.7527696290856811, \"X2\": -0.24979774886445902, \"label\": 1}, {\"X1\": 0.8109688917036594, \"X2\": 0.5556163908533611, \"label\": 0}, {\"X1\": 0.21453551358181677, \"X2\": -0.8041842943891021, \"label\": 1}, {\"X1\": 1.0293506714025704, \"X2\": 0.04382938964297559, \"label\": 0}, {\"X1\": 0.665991700944833, \"X2\": 0.4067902043278208, \"label\": 1}, {\"X1\": -0.3007516775045, \"X2\": -0.975012875763339, \"label\": 0}, {\"X1\": 0.3394889066946469, \"X2\": -0.7367253821045365, \"label\": 1}, {\"X1\": 0.7313220957946073, \"X2\": 0.3701359657314649, \"label\": 1}, {\"X1\": -0.3971629937439032, \"X2\": -0.8924069073809149, \"label\": 0}, {\"X1\": 0.8011631211949551, \"X2\": -0.03175708029238123, \"label\": 1}, {\"X1\": 0.9656931391176242, \"X2\": -0.19698065022178873, \"label\": 0}, {\"X1\": 0.48226851064472215, \"X2\": 0.7126888062252706, \"label\": 1}, {\"X1\": 0.9041555241162507, \"X2\": 0.409042917596385, \"label\": 0}, {\"X1\": 0.8941299194283533, \"X2\": 0.3639001483954145, \"label\": 0}, {\"X1\": -0.9530711364792368, \"X2\": 0.2703787301499096, \"label\": 0}, {\"X1\": 0.8040234498726329, \"X2\": -0.36160544007072226, \"label\": 1}, {\"X1\": -0.77393754765355, \"X2\": 0.6886116402455689, \"label\": 0}, {\"X1\": -0.5374580182508002, \"X2\": -0.8469950955520331, \"label\": 0}, {\"X1\": 0.9842218011547655, \"X2\": 0.04403803178134634, \"label\": 0}, {\"X1\": -0.8047966569772016, \"X2\": 0.5430723438618483, \"label\": 0}, {\"X1\": 0.815637840153223, \"X2\": 0.16621320363879533, \"label\": 1}, {\"X1\": -0.7090013464230199, \"X2\": -0.4891061851188814, \"label\": 1}, {\"X1\": -0.8092967168533121, \"X2\": -0.5870038484935403, \"label\": 0}, {\"X1\": 0.19654822275128722, \"X2\": 1.0332799287732461, \"label\": 0}, {\"X1\": 0.5884354213324304, \"X2\": -0.7876962955122448, \"label\": 0}, {\"X1\": 0.5912838963797356, \"X2\": 0.8289108357612279, \"label\": 0}, {\"X1\": 0.5087131383326953, \"X2\": 0.832569507655728, \"label\": 0}, {\"X1\": -0.858101146780003, \"X2\": -0.41380528377821435, \"label\": 0}, {\"X1\": 0.5264882989462506, \"X2\": 0.836958347761198, \"label\": 0}, {\"X1\": 0.8046030522441852, \"X2\": -0.0990298072685896, \"label\": 1}, {\"X1\": -0.7553477174490956, \"X2\": -0.3780758312839107, \"label\": 1}, {\"X1\": 0.18449728567230403, \"X2\": -0.7454333410354855, \"label\": 1}, {\"X1\": 0.21798646920055054, \"X2\": -0.9514657941517347, \"label\": 0}, {\"X1\": -0.6425973391377765, \"X2\": -0.7844136983819692, \"label\": 0}, {\"X1\": 0.7885337879990584, \"X2\": 0.18659385430507403, \"label\": 1}, {\"X1\": 0.4184006669829656, \"X2\": -0.7335199855086116, \"label\": 1}, {\"X1\": 0.4787321066990016, \"X2\": -0.6857190853424742, \"label\": 1}, {\"X1\": 0.9513497689135747, \"X2\": 0.0546186404143191, \"label\": 0}, {\"X1\": -0.8401601120121387, \"X2\": 0.19682441438636575, \"label\": 1}, {\"X1\": 0.897049539188613, \"X2\": -0.38876868392379116, \"label\": 0}, {\"X1\": 0.3641106494897269, \"X2\": 0.8969739675382338, \"label\": 0}, {\"X1\": -1.0050066771177835, \"X2\": -0.184090047898381, \"label\": 0}, {\"X1\": -0.19885839064983046, \"X2\": -0.9378518453399707, \"label\": 0}, {\"X1\": -0.03384567868143412, \"X2\": -0.7995925656219752, \"label\": 1}, {\"X1\": -0.6479464094352069, \"X2\": -0.41485300418309135, \"label\": 1}, {\"X1\": 0.053691265671235264, \"X2\": -0.9866349428200678, \"label\": 0}, {\"X1\": -0.07006786781273583, \"X2\": 0.7811986767745285, \"label\": 1}, {\"X1\": 0.07677835907650728, \"X2\": -1.0177852038008017, \"label\": 0}, {\"X1\": 0.9881872221313854, \"X2\": -0.15638187950026777, \"label\": 0}, {\"X1\": 0.08215136493527171, \"X2\": 1.0095853179516483, \"label\": 0}, {\"X1\": 0.22955068941375392, \"X2\": -0.7605664604601956, \"label\": 1}, {\"X1\": -0.9958197221913621, \"X2\": 0.013576046754640164, \"label\": 0}, {\"X1\": 0.7628100359747442, \"X2\": 0.2605914002320151, \"label\": 1}, {\"X1\": 0.9305837446764509, \"X2\": 0.20098897028851487, \"label\": 0}, {\"X1\": -0.8045963144881488, \"X2\": 0.6397930619913229, \"label\": 0}, {\"X1\": 0.19020751110768466, \"X2\": 0.7889501820541478, \"label\": 1}, {\"X1\": 0.5334717045391435, \"X2\": 0.8314730756743391, \"label\": 0}, {\"X1\": -0.7000003177344246, \"X2\": -0.327243974958988, \"label\": 1}, {\"X1\": 0.38408036663890033, \"X2\": 0.6829943648949546, \"label\": 1}, {\"X1\": -0.6654033484237976, \"X2\": -0.3853982751750873, \"label\": 1}, {\"X1\": -0.9615724598232273, \"X2\": 0.14701891334816958, \"label\": 0}, {\"X1\": -0.8897743048721574, \"X2\": -0.47972871802546513, \"label\": 0}, {\"X1\": -0.876364246729782, \"X2\": 0.4841807852129248, \"label\": 0}, {\"X1\": -0.764492753342064, \"X2\": 0.34237738739920115, \"label\": 1}, {\"X1\": -0.2323977734632467, \"X2\": -0.9309212768157907, \"label\": 0}, {\"X1\": 0.7784181351983706, \"X2\": -0.5890061334672331, \"label\": 0}, {\"X1\": -0.9283675118190354, \"X2\": 0.2774478611660426, \"label\": 0}, {\"X1\": 0.6574315960729537, \"X2\": -0.4271727553582772, \"label\": 1}, {\"X1\": 0.6397019308904168, \"X2\": -0.4914865701423296, \"label\": 1}, {\"X1\": -0.7205659938783273, \"X2\": -0.46512714496962193, \"label\": 1}, {\"X1\": 0.8313444391925533, \"X2\": 0.02715134106692356, \"label\": 1}, {\"X1\": 0.9210492397799234, \"X2\": -0.41805385868448564, \"label\": 0}, {\"X1\": -0.12394446934362216, \"X2\": -0.9945279419565218, \"label\": 0}, {\"X1\": 0.9238468461295493, \"X2\": -0.422233896831075, \"label\": 0}, {\"X1\": 0.5092970072398597, \"X2\": -0.632487123404771, \"label\": 1}, {\"X1\": 0.591304708120339, \"X2\": -0.7397115776719295, \"label\": 0}, {\"X1\": 0.9495517971086914, \"X2\": 0.07874511698342725, \"label\": 0}, {\"X1\": -0.4069189123940627, \"X2\": 0.9117472669981506, \"label\": 0}, {\"X1\": 0.7012378175061811, \"X2\": 0.37317839704248307, \"label\": 1}, {\"X1\": 0.7616585733719057, \"X2\": -0.6385277623032013, \"label\": 0}, {\"X1\": 0.9070540009448991, \"X2\": -0.2447605308599144, \"label\": 0}, {\"X1\": 0.558649880156361, \"X2\": -0.7968123884153511, \"label\": 0}, {\"X1\": -0.7646144143776972, \"X2\": -0.2763124003969881, \"label\": 1}, {\"X1\": 0.606551261145143, \"X2\": -0.524307862013885, \"label\": 1}, {\"X1\": -0.4493658008608037, \"X2\": -0.9249058508863137, \"label\": 0}, {\"X1\": 0.531916732990461, \"X2\": 0.6748259425551995, \"label\": 1}, {\"X1\": 0.5606654387623222, \"X2\": -0.5727464338617063, \"label\": 1}, {\"X1\": 0.5252289233073725, \"X2\": 0.6085154522303717, \"label\": 1}, {\"X1\": 0.29815637578390664, \"X2\": 0.7566539637607809, \"label\": 1}, {\"X1\": 0.7428105929033396, \"X2\": 0.26598919665469034, \"label\": 1}, {\"X1\": 0.39402252548118394, \"X2\": 0.6512674141769783, \"label\": 1}, {\"X1\": -0.6568943029968926, \"X2\": 0.39302822865143217, \"label\": 1}, {\"X1\": 0.7366273038152898, \"X2\": -0.5960251377191409, \"label\": 0}, {\"X1\": 0.8760314260735002, \"X2\": -0.5336831208128622, \"label\": 0}, {\"X1\": -0.9801273785427373, \"X2\": 0.22534758404947236, \"label\": 0}, {\"X1\": -0.2890473055707014, \"X2\": -0.9632985053602773, \"label\": 0}, {\"X1\": -0.7986981255782817, \"X2\": 0.23489266748113616, \"label\": 1}, {\"X1\": -0.8327376537886303, \"X2\": 0.46624834214523647, \"label\": 0}, {\"X1\": 0.5512086329442344, \"X2\": 0.8094111985771271, \"label\": 0}, {\"X1\": -0.2430968213781649, \"X2\": 0.9562674640130755, \"label\": 0}, {\"X1\": -0.8113592963036604, \"X2\": -0.606019645885057, \"label\": 0}, {\"X1\": -0.015993306138549393, \"X2\": 0.8036080403718185, \"label\": 1}, {\"X1\": -0.7182078268441738, \"X2\": -0.25473648904198354, \"label\": 1}, {\"X1\": 0.7892088658820152, \"X2\": 0.07229721091215288, \"label\": 1}, {\"X1\": -0.3879173226798841, \"X2\": -0.9541324501988327, \"label\": 0}, {\"X1\": 1.0167698425766, \"X2\": -0.19640843516656545, \"label\": 0}, {\"X1\": -0.7140926778531257, \"X2\": 0.3991044253445443, \"label\": 1}, {\"X1\": -0.07794675812342756, \"X2\": 0.9739260666153176, \"label\": 0}, {\"X1\": -0.6403896708122797, \"X2\": 0.4286870486458646, \"label\": 1}, {\"X1\": -0.6657218334869471, \"X2\": -0.718499125250778, \"label\": 0}, {\"X1\": -0.7438027622719224, \"X2\": 0.2522538094323854, \"label\": 1}, {\"X1\": 0.02648541433023649, \"X2\": 0.7618549369622005, \"label\": 1}, {\"X1\": 1.0157308824175872, \"X2\": -0.022047312434333985, \"label\": 0}, {\"X1\": -0.6859560373644639, \"X2\": -0.7239069823458187, \"label\": 0}, {\"X1\": -0.6440580523069693, \"X2\": 0.46884160083800785, \"label\": 1}, {\"X1\": 0.6183682805558606, \"X2\": 0.45353302992148425, \"label\": 1}, {\"X1\": 0.013632661965558322, \"X2\": -0.8499909062753297, \"label\": 1}, {\"X1\": 0.7456169827143418, \"X2\": 0.31303641954715644, \"label\": 1}, {\"X1\": 0.9709580434487695, \"X2\": -0.30818838322977044, \"label\": 0}, {\"X1\": 0.3133433138668477, \"X2\": -0.9917221352119827, \"label\": 0}, {\"X1\": -0.527584097884325, \"X2\": 0.8637173732903133, \"label\": 0}, {\"X1\": 0.009080560469879637, \"X2\": 0.9839755495093571, \"label\": 0}, {\"X1\": 0.18780762021975236, \"X2\": -0.9547313690395233, \"label\": 0}, {\"X1\": 0.5028034164938963, \"X2\": -0.8656668842448311, \"label\": 0}, {\"X1\": 0.6175953965313867, \"X2\": 0.4804181813847753, \"label\": 1}, {\"X1\": 0.2529431251233543, \"X2\": -0.7499833229933301, \"label\": 1}, {\"X1\": 0.4071247425498809, \"X2\": 0.9258682444111963, \"label\": 0}, {\"X1\": 0.6071791073299674, \"X2\": -0.5516663643693906, \"label\": 1}, {\"X1\": -0.6331771715080113, \"X2\": 0.8259781895002245, \"label\": 0}, {\"X1\": -0.9900426424524824, \"X2\": -0.33404562461543824, \"label\": 0}, {\"X1\": 0.2198018467551902, \"X2\": -0.7164702437774619, \"label\": 1}, {\"X1\": 0.6392410047112826, \"X2\": 0.8142475262780107, \"label\": 0}, {\"X1\": -0.8672907431057209, \"X2\": -0.5131539600094642, \"label\": 0}, {\"X1\": -0.10504757718706395, \"X2\": 1.0160413078072175, \"label\": 0}, {\"X1\": -0.8364657664084282, \"X2\": -0.5853469470094625, \"label\": 0}, {\"X1\": 0.6250766541837901, \"X2\": -0.8255426625033253, \"label\": 0}, {\"X1\": -0.5381524191829506, \"X2\": -0.8527755554089761, \"label\": 0}, {\"X1\": -0.25251627006322863, \"X2\": 0.9294174121282265, \"label\": 0}, {\"X1\": 0.5694588518059576, \"X2\": -0.8001302522369297, \"label\": 0}, {\"X1\": 0.43091704861138286, \"X2\": 0.7122738422007167, \"label\": 1}, {\"X1\": -0.14780861078317828, \"X2\": 0.9988749839251497, \"label\": 0}, {\"X1\": 0.7931929146665316, \"X2\": -0.5769349547297637, \"label\": 0}, {\"X1\": -0.45559185077895986, \"X2\": 0.8997631052344751, \"label\": 0}, {\"X1\": 0.906616027506806, \"X2\": 0.31795054012092, \"label\": 0}, {\"X1\": -0.7879460624596364, \"X2\": -0.2351818324119789, \"label\": 1}, {\"X1\": -0.751635788609911, \"X2\": 0.6778284294086567, \"label\": 0}, {\"X1\": 0.13719420421470696, \"X2\": -1.0347165231389206, \"label\": 0}, {\"X1\": -0.16334311507977722, \"X2\": -0.8007610218334736, \"label\": 1}, {\"X1\": -0.5000849182714293, \"X2\": 0.8519324881121519, \"label\": 0}, {\"X1\": -0.6679231711774207, \"X2\": 0.42861492080812025, \"label\": 1}, {\"X1\": -0.19892657104413836, \"X2\": 0.9962064192163925, \"label\": 0}, {\"X1\": -0.5804265653144755, \"X2\": 0.858521680045531, \"label\": 0}, {\"X1\": 1.0142121304482985, \"X2\": 0.09331462892637754, \"label\": 0}, {\"X1\": -0.813635074544315, \"X2\": 0.04314177351078064, \"label\": 1}, {\"X1\": 0.9263902873268239, \"X2\": -0.283542417219092, \"label\": 0}, {\"X1\": 0.5768330202039165, \"X2\": 0.8333824541154967, \"label\": 0}, {\"X1\": 0.34213950771987833, \"X2\": -0.7187467249216027, \"label\": 1}, {\"X1\": -0.5688743716595801, \"X2\": -0.563301174105886, \"label\": 1}, {\"X1\": -0.9147054156621834, \"X2\": 0.14122138058898237, \"label\": 0}, {\"X1\": -0.26820227820615467, \"X2\": 0.9844739551157944, \"label\": 0}, {\"X1\": -0.766910292762343, \"X2\": -0.4009798577012807, \"label\": 1}, {\"X1\": -0.9910064394830339, \"X2\": 0.16994058253332422, \"label\": 0}, {\"X1\": -0.9145437557789065, \"X2\": 0.3697442052380515, \"label\": 0}, {\"X1\": 0.399742892076579, \"X2\": -0.6782219637385148, \"label\": 1}, {\"X1\": 0.7133518638442183, \"X2\": 0.00879807942400509, \"label\": 1}, {\"X1\": -0.07935221399753849, \"X2\": 0.9723351523281623, \"label\": 0}, {\"X1\": 0.8098951424020762, \"X2\": -0.1387415454850887, \"label\": 1}, {\"X1\": -0.7928871465753642, \"X2\": -0.22511755133015116, \"label\": 1}, {\"X1\": -0.7052071085775771, \"X2\": 0.7270889187353381, \"label\": 0}, {\"X1\": 0.8532742838467354, \"X2\": 0.48039940685931604, \"label\": 0}, {\"X1\": -0.6337865677322685, \"X2\": 0.48095038631601517, \"label\": 1}, {\"X1\": 0.22108060135285823, \"X2\": 0.958430268965575, \"label\": 0}, {\"X1\": 0.35917717428589385, \"X2\": 0.693211188879779, \"label\": 1}, {\"X1\": 0.716413552219914, \"X2\": 0.6744290190472193, \"label\": 0}, {\"X1\": 0.3831103622375405, \"X2\": -0.8611160238243211, \"label\": 0}, {\"X1\": 0.7146219602242343, \"X2\": -0.6722806820542127, \"label\": 0}, {\"X1\": -0.8007621117402123, \"X2\": -0.040599874092130735, \"label\": 1}, {\"X1\": 0.7842183412884932, \"X2\": -0.065283401761223, \"label\": 1}, {\"X1\": 0.991098824000473, \"X2\": 0.28754208069919807, \"label\": 0}, {\"X1\": 0.9416004779126989, \"X2\": -0.3800404836898965, \"label\": 0}, {\"X1\": 0.7049362669308937, \"X2\": 0.37133373458122365, \"label\": 1}, {\"X1\": 0.7283148212776724, \"X2\": 0.3033674825543412, \"label\": 1}, {\"X1\": 0.0961739640257134, \"X2\": 0.7730136818827507, \"label\": 1}, {\"X1\": -0.6066886399028848, \"X2\": 0.48408582640959114, \"label\": 1}, {\"X1\": 0.4485007994547493, \"X2\": -0.6421817578113701, \"label\": 1}, {\"X1\": -0.507187956338847, \"X2\": -0.8320246656527823, \"label\": 0}, {\"X1\": 0.7657751862235695, \"X2\": 0.5967023276778223, \"label\": 0}, {\"X1\": 0.831953418969044, \"X2\": 0.0443937970780796, \"label\": 1}, {\"X1\": 0.7148031322210561, \"X2\": 0.14641961160778547, \"label\": 1}, {\"X1\": 0.4024168245809139, \"X2\": -0.7437535456593721, \"label\": 1}, {\"X1\": -0.7315150686904005, \"X2\": -0.2976104605504524, \"label\": 1}, {\"X1\": -0.9502945408930548, \"X2\": -0.2086477299408877, \"label\": 0}, {\"X1\": -0.5807835885408118, \"X2\": -0.6089546088307431, \"label\": 1}, {\"X1\": -0.7036956238053638, \"X2\": 0.4130434273709671, \"label\": 1}, {\"X1\": -0.4829515644522106, \"X2\": 0.6398354786061033, \"label\": 1}, {\"X1\": -0.40325531701842543, \"X2\": -0.6620363473497973, \"label\": 1}, {\"X1\": 0.7604066951861862, \"X2\": 0.18446846453376234, \"label\": 1}, {\"X1\": 0.7505497279579849, \"X2\": -0.6159790511837279, \"label\": 0}, {\"X1\": 0.9771862737085175, \"X2\": 0.2759346191199303, \"label\": 0}, {\"X1\": -0.730731127817523, \"X2\": 0.3433247183816566, \"label\": 1}, {\"X1\": 0.9843769660395546, \"X2\": -0.2256517193987085, \"label\": 0}, {\"X1\": 0.5011938226060157, \"X2\": 0.6423654443342947, \"label\": 1}, {\"X1\": 0.6365843441454425, \"X2\": -0.7857786875748005, \"label\": 0}, {\"X1\": -0.07995375347235062, \"X2\": -0.96021657172058, \"label\": 0}, {\"X1\": 0.4900809119077417, \"X2\": 0.8508418125633389, \"label\": 0}, {\"X1\": 0.7287853306711106, \"X2\": 0.6724177255105096, \"label\": 0}, {\"X1\": -0.15356110777426593, \"X2\": 0.8157365330058854, \"label\": 1}, {\"X1\": -0.9438137385625773, \"X2\": -0.23361716892778206, \"label\": 0}, {\"X1\": -0.9424047228369843, \"X2\": -0.4408531661723912, \"label\": 0}, {\"X1\": -0.17894592771764103, \"X2\": -1.0100558762219196, \"label\": 0}, {\"X1\": -0.24159088317525718, \"X2\": -0.9286428262164841, \"label\": 0}, {\"X1\": 0.8334937426278716, \"X2\": -0.5240168717544844, \"label\": 0}, {\"X1\": -0.8950652969514405, \"X2\": -0.29066477592394724, \"label\": 0}, {\"X1\": 1.0110257822697262, \"X2\": 0.16802846431656535, \"label\": 0}, {\"X1\": -0.682197851793504, \"X2\": 0.7650276627498389, \"label\": 0}, {\"X1\": -0.07114657132749326, \"X2\": -1.002444713900004, \"label\": 0}, {\"X1\": 0.042418156785676675, \"X2\": -0.8361660504127969, \"label\": 1}, {\"X1\": 0.04813469419990464, \"X2\": 0.7352552556519475, \"label\": 1}, {\"X1\": -0.9256072587068467, \"X2\": 0.3372505242797898, \"label\": 0}, {\"X1\": 0.4797733565260346, \"X2\": 0.619087056777556, \"label\": 1}, {\"X1\": 0.7501353049565157, \"X2\": -0.29943653427800015, \"label\": 1}, {\"X1\": -0.3159309339397285, \"X2\": 0.7783770927313283, \"label\": 1}, {\"X1\": 0.6845861255217064, \"X2\": 0.43663839037761276, \"label\": 1}, {\"X1\": 0.4366785081259563, \"X2\": 0.6616119642731316, \"label\": 1}, {\"X1\": -0.04387742874919676, \"X2\": 0.7917595280267731, \"label\": 1}, {\"X1\": -0.5712470166475927, \"X2\": 0.8236004558755061, \"label\": 0}, {\"X1\": -0.41656699412144904, \"X2\": 0.7161323561825148, \"label\": 1}, {\"X1\": -0.44402691917600473, \"X2\": 0.6597354278275722, \"label\": 1}, {\"X1\": 0.38257178678031084, \"X2\": 0.6984685465435572, \"label\": 1}, {\"X1\": 0.004276606414650271, \"X2\": -0.7824100360128948, \"label\": 1}, {\"X1\": 0.2251851264573511, \"X2\": -1.0192849571807183, \"label\": 0}, {\"X1\": -0.44474655819897924, \"X2\": 0.909844857388878, \"label\": 0}, {\"X1\": -0.9306718867198909, \"X2\": 0.0573930873364885, \"label\": 0}, {\"X1\": -0.14726039953624936, \"X2\": 0.797241930386566, \"label\": 1}, {\"X1\": 0.15460783771139283, \"X2\": -0.7749852953445332, \"label\": 1}, {\"X1\": -0.4102801391578404, \"X2\": 0.7078024452032106, \"label\": 1}, {\"X1\": -0.018671345849724276, \"X2\": -0.9856573001011764, \"label\": 0}, {\"X1\": 0.4408691749202751, \"X2\": -0.8944301287255779, \"label\": 0}, {\"X1\": 0.6227586185283721, \"X2\": 0.773765591796111, \"label\": 0}, {\"X1\": 0.1888650633348152, \"X2\": 0.9759673859053478, \"label\": 0}, {\"X1\": 0.2740755206129015, \"X2\": 0.7123771899060433, \"label\": 1}, {\"X1\": 0.7274280998741044, \"X2\": -0.33316802765386866, \"label\": 1}, {\"X1\": 0.17194206810918072, \"X2\": -1.0155939523239765, \"label\": 0}, {\"X1\": 0.2691809982321782, \"X2\": 1.009025958183026, \"label\": 0}, {\"X1\": 0.09429459372021079, \"X2\": 0.957272180259801, \"label\": 0}, {\"X1\": 0.48999751488641524, \"X2\": -0.8885337319287563, \"label\": 0}, {\"X1\": 0.736329649037853, \"X2\": 0.1843899766700446, \"label\": 1}, {\"X1\": 0.8751983646158286, \"X2\": -0.5042779186954169, \"label\": 0}, {\"X1\": 0.3634101049991747, \"X2\": -0.8663900978863084, \"label\": 0}, {\"X1\": 0.45333920516157733, \"X2\": 0.8927140061275141, \"label\": 0}, {\"X1\": 0.5449356495282621, \"X2\": -0.6336005283703596, \"label\": 1}, {\"X1\": 0.44254926195726463, \"X2\": 0.8743323875157438, \"label\": 0}, {\"X1\": -0.4042763864614642, \"X2\": -0.8911717432548504, \"label\": 0}, {\"X1\": 0.7947148664750351, \"X2\": -0.14081859292052024, \"label\": 1}, {\"X1\": 0.49295494530450734, \"X2\": -0.613423992651031, \"label\": 1}, {\"X1\": 0.5817373693852894, \"X2\": -0.5680597058889173, \"label\": 1}, {\"X1\": 0.18020822332386224, \"X2\": 0.7997020317817773, \"label\": 1}, {\"X1\": 0.3128876495020198, \"X2\": 0.7755577365449754, \"label\": 1}, {\"X1\": 0.17349550878118167, \"X2\": 0.7681735002810867, \"label\": 1}, {\"X1\": 0.4082138696069176, \"X2\": 0.9455382403357758, \"label\": 0}, {\"X1\": 0.9072545398092478, \"X2\": 0.16181838987352196, \"label\": 0}, {\"X1\": 0.24788763263069102, \"X2\": -0.991962912463224, \"label\": 0}, {\"X1\": 0.7068951199679218, \"X2\": 0.3182678617019692, \"label\": 1}, {\"X1\": 0.8719284435962527, \"X2\": 0.473475673115741, \"label\": 0}, {\"X1\": 0.8696188522792092, \"X2\": 0.520925943621553, \"label\": 0}, {\"X1\": -0.49054017322418, \"X2\": -0.8698287451188957, \"label\": 0}, {\"X1\": -0.5141115672390949, \"X2\": 0.8717733063737297, \"label\": 0}, {\"X1\": 1.0337117525463373, \"X2\": -0.046816899105088634, \"label\": 0}, {\"X1\": 0.046012073066413556, \"X2\": -0.8580577048573468, \"label\": 1}, {\"X1\": 0.23811389274595707, \"X2\": 0.7614464164531259, \"label\": 1}, {\"X1\": -0.8400518551511275, \"X2\": -0.09549556022534775, \"label\": 1}, {\"X1\": 0.29318368844756926, \"X2\": 0.9741996860526283, \"label\": 0}, {\"X1\": 0.5410260378183002, \"X2\": -0.7964580340060048, \"label\": 0}, {\"X1\": -0.5868706946757504, \"X2\": 0.7804400758837501, \"label\": 0}, {\"X1\": 0.7513776041236717, \"X2\": -0.6350028230926871, \"label\": 0}, {\"X1\": 0.4869640099666481, \"X2\": -0.8284687612323034, \"label\": 0}, {\"X1\": -0.08357480598748362, \"X2\": -0.7999707073975698, \"label\": 1}, {\"X1\": 0.07645154848941481, \"X2\": -0.8082605088699318, \"label\": 1}, {\"X1\": -0.5960776716876757, \"X2\": 0.6115834469791557, \"label\": 1}, {\"X1\": -0.5809249880872315, \"X2\": 0.8173336742316157, \"label\": 0}, {\"X1\": 0.2593332416299609, \"X2\": -1.0015190318791078, \"label\": 0}, {\"X1\": 0.3615518971945009, \"X2\": -0.7367273358993639, \"label\": 1}, {\"X1\": -0.6754168377764619, \"X2\": -0.40790647668315366, \"label\": 1}, {\"X1\": 0.6717540858965897, \"X2\": -0.41217661446207937, \"label\": 1}, {\"X1\": -0.5296155728641742, \"X2\": 0.5833771010278841, \"label\": 1}, {\"X1\": 0.0751532719315008, \"X2\": -1.0226359226731052, \"label\": 0}, {\"X1\": 0.6716806599961672, \"X2\": -0.37309656012749004, \"label\": 1}, {\"X1\": -0.8157191763294117, \"X2\": -0.010473418054409735, \"label\": 1}, {\"X1\": -0.9930842805124872, \"X2\": -0.12178198829550163, \"label\": 0}, {\"X1\": 0.6576241845355548, \"X2\": 0.3368646664551184, \"label\": 1}, {\"X1\": -0.47434135276752615, \"X2\": -0.8736867483064014, \"label\": 0}, {\"X1\": 1.0033594478032206, \"X2\": 0.19028381143449813, \"label\": 0}, {\"X1\": -0.6011914618015951, \"X2\": -0.8196873531186302, \"label\": 0}, {\"X1\": -0.7694226098891594, \"X2\": -0.10786477604259365, \"label\": 1}, {\"X1\": -0.9720458431727547, \"X2\": 0.36165458869616013, \"label\": 0}, {\"X1\": -0.66768608061031, \"X2\": 0.8509060315267823, \"label\": 0}, {\"X1\": 0.7842143002713291, \"X2\": -0.15916850444789737, \"label\": 1}, {\"X1\": 0.9377750768503843, \"X2\": 0.26349399019007885, \"label\": 0}, {\"X1\": -0.24930171053019484, \"X2\": -0.9878867825447333, \"label\": 0}, {\"X1\": -0.3751930206933384, \"X2\": 0.6826597225888621, \"label\": 1}, {\"X1\": -0.10949341030769533, \"X2\": -0.7077559971197697, \"label\": 1}, {\"X1\": -0.43464552876946944, \"X2\": -0.9002575870587206, \"label\": 0}, {\"X1\": 0.6584404232844099, \"X2\": -0.7080973666336421, \"label\": 0}, {\"X1\": 0.6387741543455557, \"X2\": 0.4534534788562642, \"label\": 1}, {\"X1\": -0.44088877647737995, \"X2\": -0.6928782521772352, \"label\": 1}, {\"X1\": -0.8440473057674293, \"X2\": 0.6171758951671878, \"label\": 0}, {\"X1\": 0.002863456996858263, \"X2\": 0.7673901979049094, \"label\": 1}, {\"X1\": 0.370050863730727, \"X2\": 0.922444950602477, \"label\": 0}, {\"X1\": 0.6386697090161085, \"X2\": 0.5345198880385329, \"label\": 1}, {\"X1\": 0.6371685366133151, \"X2\": 0.752484926439022, \"label\": 0}, {\"X1\": 0.011297600219066176, \"X2\": 0.8175058943956559, \"label\": 1}, {\"X1\": -0.9313769820349368, \"X2\": -0.4296886625660931, \"label\": 0}, {\"X1\": -0.26896526201375803, \"X2\": -0.7631127138869886, \"label\": 1}, {\"X1\": 0.6319489671442196, \"X2\": -0.7346633048174849, \"label\": 0}, {\"X1\": -0.35545712530065493, \"X2\": 0.9540763226817727, \"label\": 0}, {\"X1\": 0.5973094103344058, \"X2\": 0.8080594395356466, \"label\": 0}, {\"X1\": -0.7766978316670047, \"X2\": 0.17687615625219882, \"label\": 1}, {\"X1\": 0.7809627136968208, \"X2\": -0.6012528178477172, \"label\": 0}, {\"X1\": -0.7407390794512696, \"X2\": 0.7024880485080032, \"label\": 0}, {\"X1\": -0.9342299761612355, \"X2\": -0.24567878349339586, \"label\": 0}, {\"X1\": -0.9452801476386841, \"X2\": 0.15797878908024582, \"label\": 0}, {\"X1\": 0.9317628907560221, \"X2\": -0.15661761107621283, \"label\": 0}, {\"X1\": 0.11123883930200947, \"X2\": 1.0360036756154805, \"label\": 0}, {\"X1\": 0.6390454766300926, \"X2\": -0.5091662959119914, \"label\": 1}, {\"X1\": 0.8138831022154442, \"X2\": 0.11442582755040648, \"label\": 1}, {\"X1\": -0.5068016401735551, \"X2\": -0.6436819589785306, \"label\": 1}, {\"X1\": 0.36097766870346054, \"X2\": 0.7477756026428531, \"label\": 1}, {\"X1\": 0.012448180291428287, \"X2\": 0.9870883735924135, \"label\": 0}, {\"X1\": 0.10488997973292888, \"X2\": 1.0081140751634465, \"label\": 0}, {\"X1\": 0.926595314057602, \"X2\": -0.3482910566209763, \"label\": 0}, {\"X1\": -0.5944616374975596, \"X2\": 0.5480957468970724, \"label\": 1}, {\"X1\": 0.7482655205362215, \"X2\": 0.6216900719213474, \"label\": 0}, {\"X1\": -0.1422545887478903, \"X2\": -0.7848112332435383, \"label\": 1}, {\"X1\": 0.3644522017880049, \"X2\": -0.7078359951913505, \"label\": 1}, {\"X1\": -0.05968794681005997, \"X2\": -0.9969845835043404, \"label\": 0}, {\"X1\": -0.9665751914413677, \"X2\": -0.2256215656342472, \"label\": 0}, {\"X1\": 0.8719900445300249, \"X2\": 0.5893646076707941, \"label\": 0}, {\"X1\": -0.3566139482786108, \"X2\": -0.9547558632578118, \"label\": 0}, {\"X1\": -0.7695315080295682, \"X2\": 0.6294165483882599, \"label\": 0}, {\"X1\": 0.8537245131029791, \"X2\": -0.003334173563989618, \"label\": 1}, {\"X1\": -0.4183430280501437, \"X2\": -0.6782537335488004, \"label\": 1}, {\"X1\": -0.7795222314579786, \"X2\": 0.14914423476682334, \"label\": 1}, {\"X1\": -0.9324496594438924, \"X2\": -0.15211360992223924, \"label\": 0}, {\"X1\": 0.7451415350198839, \"X2\": -0.7152440485422595, \"label\": 0}, {\"X1\": -0.4751901723782838, \"X2\": 0.6863926930197737, \"label\": 1}, {\"X1\": -0.7811973751537088, \"X2\": -0.6948928582462858, \"label\": 0}, {\"X1\": -0.4293264527590578, \"X2\": -0.8803253145176118, \"label\": 0}, {\"X1\": 0.7444592917848569, \"X2\": -0.35669689168994967, \"label\": 1}, {\"X1\": -0.3140001248690074, \"X2\": 0.9425432849735704, \"label\": 0}, {\"X1\": -0.00731537327253535, \"X2\": 0.9390308281716286, \"label\": 0}, {\"X1\": -0.6966164682345011, \"X2\": -0.31198081462007365, \"label\": 1}, {\"X1\": 0.7634635260560052, \"X2\": 0.6251008402700626, \"label\": 0}, {\"X1\": -0.2760426315592416, \"X2\": -0.9252737011410497, \"label\": 0}, {\"X1\": 0.4874827512443977, \"X2\": -0.6311259811535093, \"label\": 1}, {\"X1\": -0.20083407051258823, \"X2\": 0.9535661338141351, \"label\": 0}, {\"X1\": 0.9656167102180921, \"X2\": -0.4017659718269214, \"label\": 0}, {\"X1\": 0.2849795792415345, \"X2\": -0.939136604417348, \"label\": 0}, {\"X1\": -0.015275857214563865, \"X2\": 0.8233259372244484, \"label\": 1}, {\"X1\": -0.5961480045531709, \"X2\": -0.7401368627441742, \"label\": 0}, {\"X1\": 0.9135482735043153, \"X2\": 0.2402744061123054, \"label\": 0}, {\"X1\": -0.5591500155656474, \"X2\": -0.5797687119014813, \"label\": 1}, {\"X1\": -0.6793370264182246, \"X2\": -0.36537911583219296, \"label\": 1}, {\"X1\": -0.6331156130974935, \"X2\": -0.5077825139751966, \"label\": 1}, {\"X1\": 0.399554600643101, \"X2\": -0.9007203937042321, \"label\": 0}, {\"X1\": 0.686083767748057, \"X2\": 0.36321065636316735, \"label\": 1}, {\"X1\": -0.0009139410005190585, \"X2\": 0.7301116465166257, \"label\": 1}, {\"X1\": 0.892361301609377, \"X2\": 0.49259778882432714, \"label\": 0}, {\"X1\": -0.5801971478645206, \"X2\": 0.807113612456623, \"label\": 0}, {\"X1\": -1.0036527520299177, \"X2\": 0.03451355778602117, \"label\": 0}, {\"X1\": -0.4521563203044095, \"X2\": -0.6518261853087169, \"label\": 1}, {\"X1\": -0.41595522829262754, \"X2\": 0.7136563393693417, \"label\": 1}, {\"X1\": -0.7931103142688759, \"X2\": -0.030686072010613342, \"label\": 1}, {\"X1\": -0.1429458053311151, \"X2\": -0.7976171618342045, \"label\": 1}, {\"X1\": -0.3366304611276423, \"X2\": 0.9227346409390528, \"label\": 0}, {\"X1\": -0.8836559896366984, \"X2\": -0.4677563566091295, \"label\": 0}, {\"X1\": 0.20069429528403898, \"X2\": 0.7695733735833554, \"label\": 1}, {\"X1\": 0.46108876769492196, \"X2\": 0.6010659855038919, \"label\": 1}, {\"X1\": -0.8450981974828135, \"X2\": 0.09365797827000276, \"label\": 1}, {\"X1\": 1.0087714414514608, \"X2\": 0.18608857327943046, \"label\": 0}, {\"X1\": -0.012280706569132518, \"X2\": 1.0266582606939247, \"label\": 0}, {\"X1\": -0.5907855364152805, \"X2\": -0.7798549071174699, \"label\": 0}, {\"X1\": -0.9759975881614267, \"X2\": -0.08227045888692516, \"label\": 0}, {\"X1\": -0.31060525950006157, \"X2\": 0.7221723756889731, \"label\": 1}, {\"X1\": 0.6975105620395361, \"X2\": -0.34861071157665724, \"label\": 1}, {\"X1\": -0.7185427161366694, \"X2\": 0.7194523689673381, \"label\": 0}, {\"X1\": 0.13328789938327087, \"X2\": 1.0113726173633244, \"label\": 0}, {\"X1\": 0.10988360309627142, \"X2\": 0.8755150793869155, \"label\": 1}, {\"X1\": 0.13489822552080244, \"X2\": 0.7566673703266238, \"label\": 1}, {\"X1\": -0.5932023081740474, \"X2\": 0.759952850530185, \"label\": 0}, {\"X1\": -0.7749928907428251, \"X2\": -0.5910046973446337, \"label\": 0}, {\"X1\": -0.7317329763797664, \"X2\": -0.12367674071069668, \"label\": 1}, {\"X1\": -0.6738551424752712, \"X2\": 0.42015132765536534, \"label\": 1}, {\"X1\": -0.7848249950293317, \"X2\": 0.2897417429258296, \"label\": 1}, {\"X1\": -0.5766026243178227, \"X2\": 0.5840797491131829, \"label\": 1}, {\"X1\": 0.764607673161154, \"X2\": -0.28075582307890806, \"label\": 1}, {\"X1\": 0.7945415266459117, \"X2\": 0.17390586296583063, \"label\": 1}, {\"X1\": 0.8282564111095704, \"X2\": -0.1414336747720395, \"label\": 1}, {\"X1\": 0.9130544432243779, \"X2\": 0.5390380664413581, \"label\": 0}, {\"X1\": 0.328334563234558, \"X2\": -0.7336154760695095, \"label\": 1}, {\"X1\": -0.40456132816815565, \"X2\": 0.8539993198743934, \"label\": 0}, {\"X1\": -0.24423910407186672, \"X2\": -0.8259272775903942, \"label\": 1}, {\"X1\": -0.532833346396696, \"X2\": 0.8003262312680243, \"label\": 0}, {\"X1\": 0.9530250736915943, \"X2\": 0.17962767466943047, \"label\": 0}, {\"X1\": 0.7862210894229237, \"X2\": 0.11043828019588159, \"label\": 1}, {\"X1\": 0.8560669851206195, \"X2\": 0.5499430463215299, \"label\": 0}, {\"X1\": 0.7618675380519608, \"X2\": -0.20320348597389337, \"label\": 1}, {\"X1\": 0.5944954230200264, \"X2\": -0.5530523784108996, \"label\": 1}, {\"X1\": 0.7624552510251021, \"X2\": 0.14407510530596984, \"label\": 1}, {\"X1\": 0.6322394677944598, \"X2\": -0.44575531650089206, \"label\": 1}, {\"X1\": 0.971689485287813, \"X2\": -0.3135564637923883, \"label\": 0}, {\"X1\": -0.9157979127938994, \"X2\": -0.3706220463344625, \"label\": 0}, {\"X1\": -0.7481588334587789, \"X2\": 0.29351203029741507, \"label\": 1}, {\"X1\": -0.021226946838835567, \"X2\": -0.8554871126753721, \"label\": 1}, {\"X1\": -0.926116038283256, \"X2\": 0.30357264448757165, \"label\": 0}, {\"X1\": 0.970258951854847, \"X2\": 0.36688332214459357, \"label\": 0}, {\"X1\": 0.697659862581024, \"X2\": -0.453386647030579, \"label\": 1}, {\"X1\": 0.706995999738576, \"X2\": -0.7299788631639927, \"label\": 0}, {\"X1\": 0.6318227466956974, \"X2\": -0.4517737078657355, \"label\": 1}, {\"X1\": -0.16275910717818282, \"X2\": -1.0567359742693123, \"label\": 0}, {\"X1\": -0.9920260757050952, \"X2\": 0.25163507182927586, \"label\": 0}, {\"X1\": 0.9394833790862215, \"X2\": 0.4336550925938913, \"label\": 0}, {\"X1\": 0.739219364703694, \"X2\": -0.34567268027091985, \"label\": 1}, {\"X1\": 0.02422611443275862, \"X2\": -0.9652081526398973, \"label\": 0}, {\"X1\": 0.9603624599916556, \"X2\": -0.4317986014043217, \"label\": 0}, {\"X1\": 0.7383946595140839, \"X2\": -0.29955699056727186, \"label\": 1}, {\"X1\": -0.2357674386222781, \"X2\": -0.741747323261468, \"label\": 1}, {\"X1\": -0.6682719019051491, \"X2\": 0.4147719511856196, \"label\": 1}, {\"X1\": -0.38241338634421507, \"X2\": -0.7474518594074507, \"label\": 1}, {\"X1\": -0.6820992148022962, \"X2\": 0.632486426286724, \"label\": 0}, {\"X1\": -0.26745491181463965, \"X2\": -0.7503258302447467, \"label\": 1}, {\"X1\": -0.08456843228723077, \"X2\": -0.7537494088527569, \"label\": 1}, {\"X1\": 0.8135609332236748, \"X2\": 0.055520191569956176, \"label\": 1}, {\"X1\": 0.7952682795128263, \"X2\": -0.32618748117930435, \"label\": 1}, {\"X1\": -0.4569769571459086, \"X2\": -0.7082999365882001, \"label\": 1}, {\"X1\": 0.4291423897925957, \"X2\": 0.7130251046284686, \"label\": 1}, {\"X1\": 0.7520275289250833, \"X2\": -0.2984381748884855, \"label\": 1}, {\"X1\": -0.5029624539499739, \"X2\": 0.8730458193341714, \"label\": 0}, {\"X1\": 0.2672554195850689, \"X2\": -0.6970555644170878, \"label\": 1}, {\"X1\": -0.2852501497364148, \"X2\": 0.9663775377100758, \"label\": 0}, {\"X1\": -0.6708571692688877, \"X2\": -0.4338633116375414, \"label\": 1}, {\"X1\": 0.7893092400137818, \"X2\": -0.10671473566317446, \"label\": 1}, {\"X1\": -0.827353510380968, \"X2\": -0.06313711469120578, \"label\": 1}, {\"X1\": 0.17651041458981723, \"X2\": 0.9797240081796516, \"label\": 0}, {\"X1\": -0.9972445972917737, \"X2\": 0.3334410738526042, \"label\": 0}, {\"X1\": -0.5737467193505336, \"X2\": 0.5407073601509599, \"label\": 1}, {\"X1\": 0.3062610063768081, \"X2\": 0.92652548593809, \"label\": 0}, {\"X1\": 0.4975276412270339, \"X2\": -0.7993534166441794, \"label\": 0}, {\"X1\": 0.5819162654478058, \"X2\": -0.8648573623542338, \"label\": 0}, {\"X1\": -0.8013791002375144, \"X2\": -0.034399941435627, \"label\": 1}, {\"X1\": 0.3767279222395678, \"X2\": 0.6915618232360268, \"label\": 1}, {\"X1\": -0.7468850419116512, \"X2\": -0.28222189051982505, \"label\": 1}, {\"X1\": -0.47844485753147586, \"X2\": 0.6536223791796731, \"label\": 1}, {\"X1\": 0.021213362874587402, \"X2\": 0.9865092817372153, \"label\": 0}, {\"X1\": 0.783485410009109, \"X2\": 0.6247290858421667, \"label\": 0}, {\"X1\": -0.3137563135963133, \"X2\": 0.9742159875168499, \"label\": 0}, {\"X1\": 0.2984529275963176, \"X2\": -0.9833221685523829, \"label\": 0}, {\"X1\": 0.6322793323124071, \"X2\": -0.5711080301091143, \"label\": 1}, {\"X1\": -0.8520276498305025, \"X2\": 0.4790307455938095, \"label\": 0}, {\"X1\": -0.2751407093434148, \"X2\": 0.7397065103285674, \"label\": 1}, {\"X1\": -0.31967361406115385, \"X2\": -0.699353851578521, \"label\": 1}, {\"X1\": -0.8228234559874597, \"X2\": -0.1463827603192401, \"label\": 1}, {\"X1\": 0.9571073719716469, \"X2\": 0.0744105380607451, \"label\": 0}, {\"X1\": -0.6015676363078615, \"X2\": -0.5104500484425536, \"label\": 1}, {\"X1\": 0.9282479021273974, \"X2\": 0.3823740452439107, \"label\": 0}, {\"X1\": 0.8183767080345287, \"X2\": -0.6005138850624806, \"label\": 0}, {\"X1\": -0.2629135005904107, \"X2\": 0.8277035513996066, \"label\": 1}, {\"X1\": -0.9905336197805887, \"X2\": -0.010706233535487362, \"label\": 0}, {\"X1\": -0.7274676939717875, \"X2\": -0.5840388657950917, \"label\": 0}, {\"X1\": -0.8124269996754235, \"X2\": 0.0019204919467175896, \"label\": 1}, {\"X1\": 0.5012487609469348, \"X2\": 0.6057386677270582, \"label\": 1}, {\"X1\": -0.025631562243905198, \"X2\": 0.806975101345324, \"label\": 1}, {\"X1\": -0.7716449092874819, \"X2\": 0.23249010976740342, \"label\": 1}, {\"X1\": 0.14891509234642097, \"X2\": -0.7754804002383141, \"label\": 1}, {\"X1\": -1.0086163071786205, \"X2\": -0.12403050619995334, \"label\": 0}, {\"X1\": 0.14616651778287573, \"X2\": 0.7506520523173688, \"label\": 1}, {\"X1\": -0.8310000538457674, \"X2\": -0.5451599295612379, \"label\": 0}, {\"X1\": 0.4783621337877398, \"X2\": -0.850914324970077, \"label\": 0}, {\"X1\": -0.35245868553616827, \"X2\": 0.9257742385947053, \"label\": 0}, {\"X1\": -0.6913155390969695, \"X2\": -0.38942195783602235, \"label\": 1}, {\"X1\": -0.14269091418867347, \"X2\": 0.7132374431605981, \"label\": 1}, {\"X1\": 0.22149684434960762, \"X2\": -0.7957430235700844, \"label\": 1}, {\"X1\": 0.6830322832996064, \"X2\": 0.46012126706647377, \"label\": 1}, {\"X1\": 0.12267318840963713, \"X2\": -0.7476115511669629, \"label\": 1}, {\"X1\": 1.0236259253141655, \"X2\": -0.15635923851131353, \"label\": 0}, {\"X1\": -0.27700956527913606, \"X2\": 0.9921346683915845, \"label\": 0}, {\"X1\": -0.19084417416133787, \"X2\": 0.9711501190652451, \"label\": 0}, {\"X1\": -0.685109279494352, \"X2\": 0.28725720983513603, \"label\": 1}, {\"X1\": 0.5462035801608499, \"X2\": -0.5769193359417395, \"label\": 1}, {\"X1\": -0.8046679556729042, \"X2\": 0.08781989016866117, \"label\": 1}, {\"X1\": -0.2971387891382068, \"X2\": 0.7121380684307048, \"label\": 1}, {\"X1\": -0.35965004190324823, \"X2\": -0.9635093209468375, \"label\": 0}, {\"X1\": 0.8777730239985015, \"X2\": -0.4226847029512617, \"label\": 0}, {\"X1\": -0.5723339720941876, \"X2\": -0.7875472470322106, \"label\": 0}, {\"X1\": -0.6810119114798627, \"X2\": 0.7024938200205075, \"label\": 0}, {\"X1\": 0.0460431811205857, \"X2\": 1.035157804081459, \"label\": 0}, {\"X1\": -0.2008264519302808, \"X2\": -0.7561324600700933, \"label\": 1}, {\"X1\": 0.14659405274052334, \"X2\": 0.7881690112237891, \"label\": 1}, {\"X1\": -0.2488780008328423, \"X2\": 0.973806037044159, \"label\": 0}, {\"X1\": 0.6419307345775087, \"X2\": -0.4518753133983716, \"label\": 1}, {\"X1\": -0.7920198628350298, \"X2\": 0.6014064229355246, \"label\": 0}, {\"X1\": 0.16297160021575083, \"X2\": 0.779840984533944, \"label\": 1}, {\"X1\": -0.9334232188403072, \"X2\": -0.3381536554425488, \"label\": 0}, {\"X1\": -0.8714247248634772, \"X2\": -0.5210228481308523, \"label\": 0}, {\"X1\": 0.35266763105784216, \"X2\": -0.9509639924904029, \"label\": 0}, {\"X1\": 0.03231386843117281, \"X2\": 1.0017648536202848, \"label\": 0}, {\"X1\": -0.6708527986245375, \"X2\": 0.7246539766355855, \"label\": 0}, {\"X1\": -0.8534734927438191, \"X2\": 0.5443660089222563, \"label\": 0}, {\"X1\": 0.7377232528124091, \"X2\": -0.7215471274404014, \"label\": 0}, {\"X1\": -1.0033846946611058, \"X2\": 0.07126640673375659, \"label\": 0}, {\"X1\": 0.47340193897738636, \"X2\": -0.8573058405985537, \"label\": 0}, {\"X1\": 0.47904481332943943, \"X2\": -0.6073766049751397, \"label\": 1}, {\"X1\": -0.7834629176849957, \"X2\": -0.14921088997563478, \"label\": 1}, {\"X1\": 0.2542357154822747, \"X2\": -0.7039683860746423, \"label\": 1}, {\"X1\": -0.41104312763051476, \"X2\": -0.6909942302772168, \"label\": 1}, {\"X1\": 0.12041939977602573, \"X2\": -0.7608101100760108, \"label\": 1}, {\"X1\": 0.015380346701456493, \"X2\": 0.9600260220697324, \"label\": 0}, {\"X1\": -0.13964788773478068, \"X2\": 0.7965941706055027, \"label\": 1}, {\"X1\": 0.29965894499640294, \"X2\": -0.9195250576541916, \"label\": 0}, {\"X1\": -0.7027835978832848, \"X2\": -0.3147169925147762, \"label\": 1}, {\"X1\": -0.767769076376619, \"X2\": -0.15786064639279063, \"label\": 1}, {\"X1\": -0.8204985650330169, \"X2\": 0.15186309752885627, \"label\": 1}, {\"X1\": 0.3454998024352839, \"X2\": -0.6838116690738805, \"label\": 1}, {\"X1\": -0.9800774417696512, \"X2\": 0.3789365795540116, \"label\": 0}, {\"X1\": -0.14971082379942724, \"X2\": 0.7554592778581843, \"label\": 1}, {\"X1\": 0.3666172383147256, \"X2\": -0.7005839745939276, \"label\": 1}, {\"X1\": -0.7710944600433958, \"X2\": -0.051090153212281664, \"label\": 1}, {\"X1\": -0.635707507020399, \"X2\": -0.48387713612434513, \"label\": 1}, {\"X1\": 0.41195044197144154, \"X2\": -0.7041217566311028, \"label\": 1}, {\"X1\": 0.03191337582318952, \"X2\": 0.7852909254460855, \"label\": 1}, {\"X1\": 0.0207698141534809, \"X2\": -0.8198484466724443, \"label\": 1}, {\"X1\": -0.7984795979063323, \"X2\": -0.07191743688978149, \"label\": 1}, {\"X1\": 0.13100246454942563, \"X2\": -0.9677798260342918, \"label\": 0}, {\"X1\": 0.7490206579196692, \"X2\": -0.21626358434761256, \"label\": 1}, {\"X1\": 0.8419524065390922, \"X2\": 0.050442220025772914, \"label\": 1}, {\"X1\": -0.9616008131307532, \"X2\": -0.23649922950508578, \"label\": 0}, {\"X1\": -0.5118995610917735, \"X2\": -0.6079028899298505, \"label\": 1}, {\"X1\": 0.7058515068453991, \"X2\": -0.643578271815115, \"label\": 0}, {\"X1\": 1.0048360449130898, \"X2\": -0.05878480924994685, \"label\": 0}, {\"X1\": 0.14949387046757565, \"X2\": 0.9908792533008551, \"label\": 0}, {\"X1\": -0.5777727433611105, \"X2\": 0.5365169729060717, \"label\": 1}, {\"X1\": -1.0595024599098635, \"X2\": 0.22477748243665552, \"label\": 0}, {\"X1\": -0.10350590627063945, \"X2\": -0.8040106971779635, \"label\": 1}, {\"X1\": 0.13727968104741567, \"X2\": 0.7371265691768777, \"label\": 1}, {\"X1\": -0.4000618227289594, \"X2\": 0.6604196726053818, \"label\": 1}, {\"X1\": -0.037029960237994514, \"X2\": -0.9852084678184423, \"label\": 0}, {\"X1\": 0.7661876706395657, \"X2\": -0.12608501485515716, \"label\": 1}, {\"X1\": -0.33051574139271084, \"X2\": -0.7212391757372437, \"label\": 1}, {\"X1\": -0.9481398836268876, \"X2\": 0.2600747066902621, \"label\": 0}, {\"X1\": -0.7461218260425448, \"X2\": -0.35316233836721744, \"label\": 1}, {\"X1\": -0.4400862301872097, \"X2\": 0.665555457018282, \"label\": 1}, {\"X1\": -0.6337565893641979, \"X2\": -0.7870022817309722, \"label\": 0}, {\"X1\": -0.1815754173582603, \"X2\": 0.7439752049153566, \"label\": 1}, {\"X1\": 0.4315480809093295, \"X2\": -0.9092737387937727, \"label\": 0}, {\"X1\": 0.20166092487953918, \"X2\": -0.8091935041165308, \"label\": 1}, {\"X1\": -0.7484624472346075, \"X2\": 0.3977524254202525, \"label\": 1}, {\"X1\": -0.2577666826290585, \"X2\": -1.0112825914208, \"label\": 0}, {\"X1\": -1.0014920933272469, \"X2\": -0.17952596985901215, \"label\": 0}, {\"X1\": -0.7743577288471712, \"X2\": -0.012035200590858157, \"label\": 1}, {\"X1\": -0.022425248094653114, \"X2\": 0.8001979282244687, \"label\": 1}, {\"X1\": -0.054139105635140294, \"X2\": 0.7956564632428412, \"label\": 1}, {\"X1\": -0.8596946084508731, \"X2\": -0.38488416039014756, \"label\": 0}, {\"X1\": 0.04417441186066234, \"X2\": -1.0216249284699248, \"label\": 0}, {\"X1\": 0.1164790890591656, \"X2\": -0.9471842076691406, \"label\": 0}, {\"X1\": -0.9542291587354336, \"X2\": 0.3267106527330662, \"label\": 0}, {\"X1\": 0.6939023228307745, \"X2\": -0.4677673787962994, \"label\": 1}, {\"X1\": -0.6197694546498198, \"X2\": -0.5685800102989546, \"label\": 1}, {\"X1\": 0.9683939327346143, \"X2\": -0.38518629612127586, \"label\": 0}, {\"X1\": -0.3245363262561965, \"X2\": -0.918424866033688, \"label\": 0}, {\"X1\": 0.7302164949691582, \"X2\": 0.022143756651247536, \"label\": 1}, {\"X1\": -0.1518933106021708, \"X2\": 0.7822627476163072, \"label\": 1}, {\"X1\": 0.7670547274232551, \"X2\": -0.15401981626337222, \"label\": 1}, {\"X1\": 0.5444321772077303, \"X2\": -0.6322575196650623, \"label\": 1}, {\"X1\": 0.2736483323432504, \"X2\": -0.7450562730179775, \"label\": 1}, {\"X1\": 0.07637416941418051, \"X2\": 0.7992759115098275, \"label\": 1}, {\"X1\": -0.20512373745672277, \"X2\": -0.7943670289630186, \"label\": 1}, {\"X1\": -0.648894671073323, \"X2\": -0.5122219420668284, \"label\": 1}, {\"X1\": -0.1887874717075618, \"X2\": 0.7450411261308513, \"label\": 1}, {\"X1\": -0.2733314262664937, \"X2\": -0.7050733112964849, \"label\": 1}, {\"X1\": 0.6197252295435542, \"X2\": 0.5065572033880413, \"label\": 1}, {\"X1\": 0.6470775184032832, \"X2\": -0.36420842278785936, \"label\": 1}, {\"X1\": 0.41871462978343776, \"X2\": 0.6842829391370144, \"label\": 1}, {\"X1\": -0.6563068045837774, \"X2\": -0.43576449407211926, \"label\": 1}, {\"X1\": 0.473864309988295, \"X2\": 0.821235341822633, \"label\": 0}, {\"X1\": -0.9850490669569215, \"X2\": 0.11895950482308912, \"label\": 0}, {\"X1\": -0.6678647224027024, \"X2\": 0.48166959392581116, \"label\": 1}, {\"X1\": -0.41323972354301564, \"X2\": 0.9276431495234827, \"label\": 0}, {\"X1\": 0.7640057280810101, \"X2\": 0.18884368464278042, \"label\": 1}, {\"X1\": 0.8889289193821449, \"X2\": 0.43251806512674323, \"label\": 0}, {\"X1\": 0.7262911942962836, \"X2\": 0.36687384099954484, \"label\": 1}, {\"X1\": -0.47019729874249583, \"X2\": 0.7874937334369062, \"label\": 0}, {\"X1\": -0.3020405082223377, \"X2\": 0.7449721458605064, \"label\": 1}, {\"X1\": 0.1438825767619942, \"X2\": -0.822794070477396, \"label\": 1}, {\"X1\": -0.1659807563269514, \"X2\": -0.7684886766898441, \"label\": 1}, {\"X1\": -0.27427549516016697, \"X2\": -0.7410317702253439, \"label\": 1}, {\"X1\": 0.5972407164657175, \"X2\": -0.5661656577588126, \"label\": 1}, {\"X1\": -0.8033136949561221, \"X2\": 0.17431732537992708, \"label\": 1}, {\"X1\": 0.37300688513006974, \"X2\": 0.9310178574658269, \"label\": 0}, {\"X1\": 0.5785812238786303, \"X2\": 0.5517941604039278, \"label\": 1}, {\"X1\": -0.9913142696011618, \"X2\": 0.14249601691645172, \"label\": 0}, {\"X1\": -0.7985075081401108, \"X2\": 0.04298965402878902, \"label\": 1}, {\"X1\": 0.44947933535634904, \"X2\": 0.6661791576250823, \"label\": 1}, {\"X1\": -0.5414007370488523, \"X2\": 0.5828961779776723, \"label\": 1}, {\"X1\": 0.8832713585361246, \"X2\": -0.5178476521622161, \"label\": 0}, {\"X1\": 0.6288401990061091, \"X2\": 0.5411553444307802, \"label\": 1}, {\"X1\": 0.14866438356960138, \"X2\": -0.7955730810468107, \"label\": 1}, {\"X1\": -0.8321357248094554, \"X2\": 0.48709277376282745, \"label\": 0}, {\"X1\": 0.19113696858660842, \"X2\": -1.0097938652988632, \"label\": 0}, {\"X1\": -0.6667084308853005, \"X2\": -0.3987165989774339, \"label\": 1}, {\"X1\": 0.2683371547013746, \"X2\": -0.9882155618882728, \"label\": 0}, {\"X1\": -0.7844765147134364, \"X2\": -0.17436538113174005, \"label\": 1}, {\"X1\": -0.29014075675920126, \"X2\": -0.7442226181550144, \"label\": 1}, {\"X1\": -0.9379809392964777, \"X2\": 0.35591594372474, \"label\": 0}, {\"X1\": 0.9584135224951219, \"X2\": 0.002146504175291074, \"label\": 0}, {\"X1\": -0.7721961407319756, \"X2\": -0.17490444561422006, \"label\": 1}, {\"X1\": -0.16659008510239884, \"X2\": 0.7994464484289531, \"label\": 1}, {\"X1\": 0.5379118547160742, \"X2\": -0.6405378371783721, \"label\": 1}, {\"X1\": 0.14230405647305933, \"X2\": 0.7419602901441181, \"label\": 1}, {\"X1\": -0.7495601034024306, \"X2\": 0.08283553415006098, \"label\": 1}, {\"X1\": 0.6487199984625004, \"X2\": 0.4191841919754225, \"label\": 1}, {\"X1\": -0.8066333429377892, \"X2\": 0.2481908628222149, \"label\": 1}, {\"X1\": -0.5263923779013568, \"X2\": 0.5910705062098993, \"label\": 1}, {\"X1\": 0.28661211556205435, \"X2\": 1.0024921229384158, \"label\": 0}, {\"X1\": -0.6062929173585693, \"X2\": -0.42312642772306186, \"label\": 1}, {\"X1\": -0.7909707084104896, \"X2\": 0.25675187682129014, \"label\": 1}, {\"X1\": 0.5097224547775092, \"X2\": 0.6264750658253474, \"label\": 1}, {\"X1\": 0.42211062255357823, \"X2\": -0.9372395070628713, \"label\": 0}, {\"X1\": 0.7889206088439018, \"X2\": -0.0840388204034815, \"label\": 1}, {\"X1\": 0.8428667408080918, \"X2\": 0.5171103191377158, \"label\": 0}, {\"X1\": 0.9037102114950051, \"X2\": 0.3605870776748516, \"label\": 0}, {\"X1\": -0.7584501001448375, \"X2\": -0.2718130960640777, \"label\": 1}, {\"X1\": -0.3493583664292833, \"X2\": -0.6982349625379228, \"label\": 1}, {\"X1\": -0.7710481083073784, \"X2\": 0.5767213741921382, \"label\": 0}, {\"X1\": -0.1272134021339651, \"X2\": 1.0223431401298686, \"label\": 0}, {\"X1\": 0.9741019545550623, \"X2\": 0.3550372705660781, \"label\": 0}, {\"X1\": 0.0216670514212705, \"X2\": -0.7857417307775691, \"label\": 1}, {\"X1\": -0.9652990430072124, \"X2\": 0.2802657554053447, \"label\": 0}, {\"X1\": 0.9732752630105188, \"X2\": -0.18778859941913517, \"label\": 0}, {\"X1\": -0.7489150332574606, \"X2\": -0.29511259991157324, \"label\": 1}, {\"X1\": 0.015744780553044773, \"X2\": -1.029985337980138, \"label\": 0}, {\"X1\": -0.919034488940717, \"X2\": -0.4820508047501406, \"label\": 0}, {\"X1\": 0.5509607408740553, \"X2\": -0.8329099936234612, \"label\": 0}, {\"X1\": -0.46961008319758946, \"X2\": 0.6870801047295186, \"label\": 1}, {\"X1\": 0.16784106585941552, \"X2\": -1.0158035539566617, \"label\": 0}, {\"X1\": 0.3482330483483279, \"X2\": 0.7495822349764134, \"label\": 1}, {\"X1\": 0.9858762872358002, \"X2\": -0.05919392225428097, \"label\": 0}, {\"X1\": -0.11884520894374537, \"X2\": 0.9350828676794335, \"label\": 0}, {\"X1\": 0.6935828991489785, \"X2\": 0.7095072656243862, \"label\": 0}, {\"X1\": 0.9883938867095555, \"X2\": -0.34491887235105384, \"label\": 0}, {\"X1\": -0.20395240882346127, \"X2\": 0.752540626264425, \"label\": 1}, {\"X1\": -0.020635775911696626, \"X2\": 1.0024487522669618, \"label\": 0}, {\"X1\": 0.7162376995847877, \"X2\": -0.2138452196568348, \"label\": 1}, {\"X1\": 0.8039783305983104, \"X2\": 0.2230528611965187, \"label\": 1}, {\"X1\": -0.35770673510205153, \"X2\": -0.7437584458155005, \"label\": 1}, {\"X1\": 0.6412336471122897, \"X2\": -0.36295228033514665, \"label\": 1}, {\"X1\": 0.7261115676050304, \"X2\": 0.7501749989603994, \"label\": 0}, {\"X1\": -0.5447463564656126, \"X2\": -0.5643463051955613, \"label\": 1}, {\"X1\": 1.0171882597501503, \"X2\": 0.20274791369095313, \"label\": 0}, {\"X1\": -0.39245810234344797, \"X2\": 0.9453751473329335, \"label\": 0}, {\"X1\": 0.8602279056815848, \"X2\": 0.497954401050223, \"label\": 0}, {\"X1\": 0.9559775176522681, \"X2\": -0.13702806911140272, \"label\": 0}, {\"X1\": 0.08199052958808703, \"X2\": -0.9706101529398745, \"label\": 0}, {\"X1\": -0.6836416235815741, \"X2\": 0.7141747418408704, \"label\": 0}, {\"X1\": -0.8610869882970189, \"X2\": -0.1323560103021015, \"label\": 1}, {\"X1\": -0.8964804756693007, \"X2\": 0.3983335835664961, \"label\": 0}, {\"X1\": -0.7175218295198676, \"X2\": -0.35084926159402274, \"label\": 1}, {\"X1\": 0.7921817289060871, \"X2\": 0.6215741527838768, \"label\": 0}, {\"X1\": 0.053376089984528696, \"X2\": -0.8294746904076238, \"label\": 1}, {\"X1\": -0.4537836379400618, \"X2\": -0.8485471139792256, \"label\": 0}, {\"X1\": -0.7451706559276483, \"X2\": 0.02130216827111061, \"label\": 1}, {\"X1\": -0.7472000718879788, \"X2\": 0.31189399846156685, \"label\": 1}, {\"X1\": -0.7503695325849699, \"X2\": 0.29835762982970204, \"label\": 1}, {\"X1\": -0.874219676177027, \"X2\": -0.5442229875639775, \"label\": 0}, {\"X1\": -0.6865856403800426, \"X2\": 0.43169531616388684, \"label\": 1}, {\"X1\": -0.9886238237496424, \"X2\": 0.011729695365758202, \"label\": 0}, {\"X1\": -0.7833733866096269, \"X2\": 0.2607961089308866, \"label\": 1}, {\"X1\": 0.9156385861489124, \"X2\": -0.41266275221233084, \"label\": 0}, {\"X1\": 0.8464203309672468, \"X2\": -0.5550197308023204, \"label\": 0}, {\"X1\": 0.7689154073366372, \"X2\": -0.07324925048141229, \"label\": 1}, {\"X1\": -0.5101442637008428, \"X2\": -0.6286277622257987, \"label\": 1}, {\"X1\": -0.0935772775863707, \"X2\": -0.8154019862438591, \"label\": 1}, {\"X1\": -0.992187918850456, \"X2\": -0.2410456606740242, \"label\": 0}, {\"X1\": -0.8374488872041793, \"X2\": 0.6055320960710548, \"label\": 0}, {\"X1\": -0.38271544809144986, \"X2\": 0.8796822868397768, \"label\": 0}, {\"X1\": 0.6034434590456926, \"X2\": 0.5050395675804349, \"label\": 1}, {\"X1\": -0.75607360816184, \"X2\": 0.20406867666324197, \"label\": 1}, {\"X1\": 0.3625613321387873, \"X2\": -0.9126995874978865, \"label\": 0}, {\"X1\": -0.694389948710595, \"X2\": 0.46944420426865, \"label\": 1}, {\"X1\": 1.000474721865928, \"X2\": -0.31188500995004154, \"label\": 0}, {\"X1\": -0.5109810351863668, \"X2\": -0.6386109511892075, \"label\": 1}, {\"X1\": -0.7875175795323244, \"X2\": -0.2587267515892489, \"label\": 1}, {\"X1\": 0.20884043862090323, \"X2\": 0.970907372690748, \"label\": 0}, {\"X1\": 0.5930456239825342, \"X2\": 0.5647740775615808, \"label\": 1}, {\"X1\": 0.1557403398868197, \"X2\": -0.9335187024165833, \"label\": 0}, {\"X1\": 0.9666733203493365, \"X2\": -0.03727125499784005, \"label\": 0}, {\"X1\": 0.5372645127549545, \"X2\": -0.5891120761312592, \"label\": 1}, {\"X1\": 0.7271979056884099, \"X2\": -0.1832578599477429, \"label\": 1}, {\"X1\": 0.6047006104061715, \"X2\": 0.5163440014387993, \"label\": 1}, {\"X1\": 0.5384541415476042, \"X2\": 0.8562059957708182, \"label\": 0}, {\"X1\": -0.8468294537602439, \"X2\": 0.5413975726712285, \"label\": 0}, {\"X1\": 0.916025788562852, \"X2\": 0.3899937422857312, \"label\": 0}, {\"X1\": -0.7158877358757669, \"X2\": -0.20978089047767137, \"label\": 1}, {\"X1\": 0.8316581555022753, \"X2\": 0.11069964409728782, \"label\": 1}, {\"X1\": 0.5606809136116147, \"X2\": -0.7662085273134763, \"label\": 0}, {\"X1\": 0.8571960828686271, \"X2\": -0.5924900551825824, \"label\": 0}, {\"X1\": -0.11930369552798428, \"X2\": -0.9853075070402497, \"label\": 0}, {\"X1\": 0.4643050939370231, \"X2\": 0.9318476864218235, \"label\": 0}, {\"X1\": -0.4630527384692815, \"X2\": -0.8485435978128123, \"label\": 0}, {\"X1\": 0.21967494129527718, \"X2\": -0.7772973713759614, \"label\": 1}, {\"X1\": 0.5451090987525796, \"X2\": 0.5275405627696316, \"label\": 1}, {\"X1\": -0.3714176377991621, \"X2\": -0.9148519281690817, \"label\": 0}, {\"X1\": -0.769240143821552, \"X2\": -0.24414131352834087, \"label\": 1}, {\"X1\": -1.019543042647434, \"X2\": 0.10862854744515284, \"label\": 0}, {\"X1\": 0.996182154006127, \"X2\": 0.1683269915067862, \"label\": 0}, {\"X1\": -0.73271105862026, \"X2\": -0.7421388059475484, \"label\": 0}, {\"X1\": 0.29753748340933617, \"X2\": 0.7460718308062073, \"label\": 1}, {\"X1\": 0.15069981544411243, \"X2\": -0.9912544172543822, \"label\": 0}, {\"X1\": -0.9114745962497863, \"X2\": -0.24630821880413611, \"label\": 0}, {\"X1\": -0.46850141155372715, \"X2\": 0.8409864852683497, \"label\": 0}, {\"X1\": -0.32984794177629595, \"X2\": -0.7068233896805616, \"label\": 1}, {\"X1\": 0.7750026685171586, \"X2\": -0.10640488505640273, \"label\": 1}, {\"X1\": -0.15752278061570663, \"X2\": 0.7632812117001113, \"label\": 1}, {\"X1\": -0.4768193000350307, \"X2\": -0.573488291924047, \"label\": 1}, {\"X1\": 0.9920913558555065, \"X2\": -0.18613403742362267, \"label\": 0}, {\"X1\": 0.7328539420929819, \"X2\": -0.1927486663368511, \"label\": 1}, {\"X1\": 0.8415001776742628, \"X2\": 0.06063563963938392, \"label\": 1}, {\"X1\": -0.4155096033571039, \"X2\": -0.6294374695612428, \"label\": 1}, {\"X1\": -1.0016848308229966, \"X2\": 0.06926452630009262, \"label\": 0}, {\"X1\": 0.5448812039791674, \"X2\": 0.6130045149298871, \"label\": 1}, {\"X1\": -0.05153382287424797, \"X2\": -0.7914539406952875, \"label\": 1}, {\"X1\": 0.5935388922335176, \"X2\": 0.5540307270801735, \"label\": 1}, {\"X1\": -0.5217137016611648, \"X2\": 0.5954828197826575, \"label\": 1}, {\"X1\": -0.6560675313325746, \"X2\": 0.6711352188853685, \"label\": 0}, {\"X1\": -0.7112641823778136, \"X2\": -0.34361865070368425, \"label\": 1}, {\"X1\": -0.6897145814350032, \"X2\": 0.4172580611614788, \"label\": 1}, {\"X1\": 0.9672062369670613, \"X2\": -0.30348955695662455, \"label\": 0}, {\"X1\": -0.5320163009764082, \"X2\": 0.5567488787906699, \"label\": 1}, {\"X1\": 0.772980162267422, \"X2\": 0.1003893770817071, \"label\": 1}, {\"X1\": 0.769736226427975, \"X2\": 0.6655157949268229, \"label\": 0}, {\"X1\": 0.9546601152759028, \"X2\": -0.33222758123643303, \"label\": 0}, {\"X1\": 0.635651628012944, \"X2\": 0.5170901954131042, \"label\": 1}, {\"X1\": -0.21017634413753325, \"X2\": -0.7920761285515446, \"label\": 1}, {\"X1\": -0.7831504461731698, \"X2\": -0.0010136475576587867, \"label\": 1}, {\"X1\": -0.99561263156686, \"X2\": -0.02018279114054085, \"label\": 0}, {\"X1\": 0.9445508997112725, \"X2\": 0.27074089011860264, \"label\": 0}, {\"X1\": -0.7328843867609722, \"X2\": -0.7450479014831376, \"label\": 0}, {\"X1\": 0.8731719273651688, \"X2\": -0.5425200091126335, \"label\": 0}, {\"X1\": -0.49012337264157985, \"X2\": 0.9208120514899235, \"label\": 0}, {\"X1\": -0.9156292067170092, \"X2\": -0.33494770336798535, \"label\": 0}, {\"X1\": 0.6554202208386791, \"X2\": -0.3984953792039603, \"label\": 1}, {\"X1\": -0.7718792638981414, \"X2\": 0.6344316293793898, \"label\": 0}, {\"X1\": 0.14656232627555885, \"X2\": -0.9918435557191086, \"label\": 0}, {\"X1\": -0.5844642920419244, \"X2\": -0.5741471681622912, \"label\": 1}, {\"X1\": 0.41755964088793124, \"X2\": -0.8877064870182196, \"label\": 0}, {\"X1\": 1.0061415214745222, \"X2\": -0.08744647224279736, \"label\": 0}, {\"X1\": -0.3861291337729391, \"X2\": -0.9152921927051133, \"label\": 0}, {\"X1\": -0.7889874326226451, \"X2\": -0.14147205047184433, \"label\": 1}, {\"X1\": -0.7790318490882969, \"X2\": -0.6552412628575737, \"label\": 0}, {\"X1\": -0.37932687835838713, \"X2\": 0.7355675576272471, \"label\": 1}, {\"X1\": -0.09390104661094639, \"X2\": 1.0203411993832854, \"label\": 0}, {\"X1\": -0.3643007400924548, \"X2\": 0.7628483342485961, \"label\": 1}, {\"X1\": -0.048626043961962996, \"X2\": -0.7862405817973876, \"label\": 1}, {\"X1\": 0.29755392139338815, \"X2\": 0.9384615148015055, \"label\": 0}, {\"X1\": -0.03451769828660357, \"X2\": -1.0451060703147306, \"label\": 0}, {\"X1\": 0.4170511425959446, \"X2\": 0.9061322278086139, \"label\": 0}, {\"X1\": 0.8595408125468847, \"X2\": -0.5214109976272017, \"label\": 0}, {\"X1\": -0.557936380391499, \"X2\": -0.8652825893737262, \"label\": 0}, {\"X1\": -0.8960287301161243, \"X2\": 0.45046684257441855, \"label\": 0}, {\"X1\": 0.8473427537962388, \"X2\": -0.37199055929018765, \"label\": 0}, {\"X1\": 0.09049534106802937, \"X2\": 0.9288173136996105, \"label\": 0}, {\"X1\": 0.1428100334373943, \"X2\": 0.8240257060972522, \"label\": 1}, {\"X1\": 0.9685965259542574, \"X2\": 0.2097748285083085, \"label\": 0}, {\"X1\": -0.6167567527500057, \"X2\": 0.46299126984505806, \"label\": 1}, {\"X1\": 0.6441577266052692, \"X2\": 0.8450383397258768, \"label\": 0}, {\"X1\": 0.24405409954243332, \"X2\": 0.944125192163117, \"label\": 0}, {\"X1\": -0.9786550909762227, \"X2\": -0.2723732479720846, \"label\": 0}, {\"X1\": -0.13690036014512402, \"X2\": -0.8100118273454452, \"label\": 1}, {\"X1\": 0.6703615632581993, \"X2\": -0.7675015386536396, \"label\": 0}, {\"X1\": 0.28105665230440185, \"X2\": 0.9638244328164374, \"label\": 0}]}}, {\"mode\": \"vega-lite\"});\n",
              "</script>"
            ],
            "text/plain": [
              "alt.Chart(...)"
            ]
          },
          "metadata": {},
          "execution_count": 7
        }
      ]
    },
    {
      "cell_type": "code",
      "source": [
        "#"
      ],
      "metadata": {
        "id": "DNBDdBi9zs_d"
      },
      "execution_count": null,
      "outputs": []
    }
  ]
}