{
  "nbformat": 4,
  "nbformat_minor": 0,
  "metadata": {
    "colab": {
      "provenance": [],
      "authorship_tag": "ABX9TyMNmL1E9Z+OXEiVQfaRCQmB",
      "include_colab_link": true
    },
    "kernelspec": {
      "name": "python3",
      "display_name": "Python 3"
    },
    "language_info": {
      "name": "python"
    }
  },
  "cells": [
    {
      "cell_type": "markdown",
      "metadata": {
        "id": "view-in-github",
        "colab_type": "text"
      },
      "source": [
        "<a href=\"https://colab.research.google.com/github/maushamkumar/PyTorch/blob/main/01_Pytorch_workflow.ipynb\" target=\"_parent\"><img src=\"https://colab.research.google.com/assets/colab-badge.svg\" alt=\"Open In Colab\"/></a>"
      ]
    },
    {
      "cell_type": "markdown",
      "source": [
        "# PyTorch Workflow\n",
        "\n",
        "Let's explore an example PyTorch end-to-end workflow."
      ],
      "metadata": {
        "id": "kqWH2WKbInTg"
      }
    },
    {
      "cell_type": "code",
      "source": [
        "what_were_covering = {1: \"data (prepare and load)\",\n",
        "                      2: \"build model\",\n",
        "                      3: \"fitting the model to data (training)\",\n",
        "                      4: \"making predictions and evaluating a model (inference)\",\n",
        "                      5: \"saving and loading a model\",\n",
        "                      6: \"Putting it all together\"}"
      ],
      "metadata": {
        "id": "KeCbk_MmI0iw"
      },
      "execution_count": 28,
      "outputs": []
    },
    {
      "cell_type": "code",
      "source": [
        "import torch\n",
        "from torch import nn # nn contains all of PyTorch's building blocks for neural networks\n",
        "import matplotlib.pyplot as plt\n",
        "\n",
        "# check PyTorch version\n",
        "torch.__version__"
      ],
      "metadata": {
        "colab": {
          "base_uri": "https://localhost:8080/",
          "height": 35
        },
        "id": "C4iyMXxdJrKY",
        "outputId": "2642d77f-2103-4e6a-9d8e-0c80c9f0ddee"
      },
      "execution_count": 29,
      "outputs": [
        {
          "output_type": "execute_result",
          "data": {
            "text/plain": [
              "'2.2.1+cu121'"
            ],
            "application/vnd.google.colaboratory.intrinsic+json": {
              "type": "string"
            }
          },
          "metadata": {},
          "execution_count": 29
        }
      ]
    },
    {
      "cell_type": "markdown",
      "source": [
        "## Data (preparing and loading)\n",
        "\n",
        "Data can be almost anything... in machine learning\n",
        "\n",
        "* Excel speadsheet\n",
        "* Images of any kind\n",
        "* Videos (YouTube has lots of data...)\n",
        "* Audio like songs or podcasts\n",
        "* CSV\n",
        "* DNA\n",
        "* Text\n",
        "\n",
        "Machine learning is a game of two parts\n",
        "1. Get data into a numerical representation\n",
        "2. Build a model to learn patterns in that numerical representation.\n",
        "\n",
        "To showcase this, let's create some *Known* data using the linear regression formula.\n",
        "\n",
        "\n",
        "we'll use a linear regression formula to make a straight line with *Known*  **Parameters**"
      ],
      "metadata": {
        "id": "VtB0dXb1aIgq"
      }
    },
    {
      "cell_type": "code",
      "source": [
        "# create *known* parameters\n",
        "weight = 0.7\n",
        "bias = 0.3"
      ],
      "metadata": {
        "id": "LHdDCUlmapq3"
      },
      "execution_count": 30,
      "outputs": []
    },
    {
      "cell_type": "code",
      "source": [
        "# Create\n",
        "start = 0\n",
        "end = 1\n",
        "step = 0.02\n",
        "X = torch.arange(start, end, step).unsqueeze(dim=1) # Uppercase represent a tensor lower case represents vector or matrix but for now this represent vector\n",
        "y = weight * X + bias\n"
      ],
      "metadata": {
        "id": "fPjQOA-OcS9Y"
      },
      "execution_count": 31,
      "outputs": []
    },
    {
      "cell_type": "code",
      "source": [
        "X[:10], y[:10]"
      ],
      "metadata": {
        "colab": {
          "base_uri": "https://localhost:8080/"
        },
        "id": "EPp52zX2c101",
        "outputId": "5e778efc-b416-45f5-fd10-0c13471d679f"
      },
      "execution_count": 32,
      "outputs": [
        {
          "output_type": "execute_result",
          "data": {
            "text/plain": [
              "(tensor([[0.0000],\n",
              "         [0.0200],\n",
              "         [0.0400],\n",
              "         [0.0600],\n",
              "         [0.0800],\n",
              "         [0.1000],\n",
              "         [0.1200],\n",
              "         [0.1400],\n",
              "         [0.1600],\n",
              "         [0.1800]]),\n",
              " tensor([[0.3000],\n",
              "         [0.3140],\n",
              "         [0.3280],\n",
              "         [0.3420],\n",
              "         [0.3560],\n",
              "         [0.3700],\n",
              "         [0.3840],\n",
              "         [0.3980],\n",
              "         [0.4120],\n",
              "         [0.4260]]))"
            ]
          },
          "metadata": {},
          "execution_count": 32
        }
      ]
    },
    {
      "cell_type": "code",
      "source": [
        "len(X), len(y)"
      ],
      "metadata": {
        "colab": {
          "base_uri": "https://localhost:8080/"
        },
        "id": "CD2BKmnUddVj",
        "outputId": "8a64b60c-e8da-4bd2-98b1-9d5282c56b8e"
      },
      "execution_count": 33,
      "outputs": [
        {
          "output_type": "execute_result",
          "data": {
            "text/plain": [
              "(50, 50)"
            ]
          },
          "metadata": {},
          "execution_count": 33
        }
      ]
    },
    {
      "cell_type": "markdown",
      "source": [
        "### Splitting data into training and test sets (one of the most important steps in machine and Deep learning in general)"
      ],
      "metadata": {
        "id": "kNv4Z8AAeYVe"
      }
    },
    {
      "cell_type": "markdown",
      "source": [
        "#### Let's create a training and test set with our data."
      ],
      "metadata": {
        "id": "dKXexkLUf0VT"
      }
    },
    {
      "cell_type": "code",
      "source": [
        "# Create a train/test split\n",
        "train_split = int(0.8 * len(X))\n",
        "X_train, y_train = X[:train_split], y[:train_split]\n",
        "X_test, y_test = X[train_split:], y[train_split:]"
      ],
      "metadata": {
        "id": "l6A8wHVxeDxb"
      },
      "execution_count": 34,
      "outputs": []
    },
    {
      "cell_type": "code",
      "source": [
        "len(X_train), len(y_train), len(X_test), len(y_test)"
      ],
      "metadata": {
        "colab": {
          "base_uri": "https://localhost:8080/"
        },
        "id": "86S29-FZeD5S",
        "outputId": "2dc010e1-2bd6-41db-bb3d-14430a3340c8"
      },
      "execution_count": 35,
      "outputs": [
        {
          "output_type": "execute_result",
          "data": {
            "text/plain": [
              "(40, 40, 10, 10)"
            ]
          },
          "metadata": {},
          "execution_count": 35
        }
      ]
    },
    {
      "cell_type": "markdown",
      "source": [
        "How might we better visualize this data?\n",
        "\n",
        "This is where the data explorer's motto comes in to play\n",
        "\n",
        "\"Visualize, visualize, visualize\""
      ],
      "metadata": {
        "id": "7yOlOT556QUW"
      }
    },
    {
      "cell_type": "code",
      "source": [
        "def plot_predictions(train_data=X_train,\n",
        "                     train_labels=y_train,\n",
        "                     test_data=X_test,\n",
        "                     test_labels=y_test,\n",
        "                     predictions=None):\n",
        "  \"\"\"\n",
        "  plots training data, test data and compares predictions.\n",
        "  \"\"\"\n",
        "  plt.figure(figsize=(10, 7))\n",
        "\n",
        "  #plot training data in blue\n",
        "  plt.scatter(train_data, train_labels, c=\"b\", s=4, label=\"Training data\")\n",
        "\n",
        "  # plot test data in green\n",
        "  plt.scatter(test_data, test_labels, c=\"y\", s=4, label=\"Test data\")\n",
        "\n",
        "  # Are there predictions?\n",
        "  if predictions is not None:\n",
        "    # plot the prediction if they exist\n",
        "    plt.scatter(test_data, predictions, c=\"r\", s=4, label=\"Predictions\")\n",
        "\n",
        "  # Show the legend\n",
        "  plt.legend(prop={\"size\": 14})"
      ],
      "metadata": {
        "id": "2k4tTtVVeD_s"
      },
      "execution_count": 36,
      "outputs": []
    },
    {
      "cell_type": "code",
      "source": [
        "plot_predictions()"
      ],
      "metadata": {
        "colab": {
          "base_uri": "https://localhost:8080/",
          "height": 599
        },
        "id": "6c8-sXfXeEGX",
        "outputId": "b901a835-1315-4e74-94af-fe5539b09344"
      },
      "execution_count": 37,
      "outputs": [
        {
          "output_type": "display_data",
          "data": {
            "text/plain": [
              "<Figure size 1000x700 with 1 Axes>"
            ],
            "image/png": "[encoded data removed]"
          },
          "metadata": {}
        }
      ]
    },
    {
      "cell_type": "code",
      "source": [],
      "metadata": {
        "id": "oDszmG3leEMg"
      },
      "execution_count": 37,
      "outputs": []
    },
    {
      "cell_type": "markdown",
      "source": [
        "## Creating our first PyTorch model for linear regression"
      ],
      "metadata": {
        "id": "yHAB_-nU898E"
      }
    },
    {
      "cell_type": "markdown",
      "source": [
        "What our model does:\n",
        "* Start with random values (weights & bias)\n",
        "* Look at training data and adjust the random values to better represent (or get closer to ) the ideal values (the weight & bias values we used to create the data )\n",
        "\n",
        "How does it do so?\n",
        "1. Gradient descent\n",
        "2. Backpropagation\n",
        "3. Loss function\n",
        "4. Accuracy"
      ],
      "metadata": {
        "id": "Rz291iFKCIHO"
      }
    },
    {
      "cell_type": "code",
      "source": [
        "# Create linear regression model class\n",
        "class LinearRegressionModel(nn.Module): # <- almost everything in PyTorch is a nn.Module (think \"model\" in Keras)\n",
        "  def __init__(self):\n",
        "    super().__init__()\n",
        "    self.weights = nn.Parameter(torch.randn(1, # <- start with a random weight and try to adjust it to the ideal weight\n",
        "                                            requires_grad=True, # <- Can this parameter be updated via gradient descent?\n",
        "                                            dtype=torch.float)) # <- PyTorch loves the datatype torch.float32\n",
        "\n",
        "    self.bias = nn.Parameter(torch.randn(1,  # <- start with a random bias and try to adjust it to the ideal bias\n",
        "                                         requires_grad=True, # <- Can this parameter be updated via gradient descent?\n",
        "                                         dtype=torch.float)) # <- PyTorch loves the datatype torch.float32\n",
        "\n",
        "    # Forward method to define the computation in the model\n",
        "  def forward(self, x: torch.Tensor) -> torch.Tensor: # <- \"x\" is the input data\n",
        "      return self.weights * x + self.bias # This is the linear regression formula\n"
      ],
      "metadata": {
        "id": "nba7dyIpeESr"
      },
      "execution_count": 67,
      "outputs": []
    },
    {
      "cell_type": "markdown",
      "source": [
        "### Breaking down what's happening in our PyTorch linear regression model"
      ],
      "metadata": {
        "id": "-uSfxqj5DMWy"
      }
    },
    {
      "cell_type": "markdown",
      "source": [
        "### PyTorch model building essentials\n",
        "\n",
        "* **torch.nn** - contains all of the building blocks for computational graphs(another word for neural networks)\n",
        "\n",
        "* **torch.nn.Parameter** - what parameters should our model try and learn, often a PyTorch layer from troch.nn will set these for use\n",
        "\n",
        "* **torch.nn.module** - The base class for all neural network modules, if you subclass it, you should overwrite forward ()\n",
        "* **torch.optim** - this where the optimizers in pytorch live, they will help with gradent descent\n",
        "* def Forward() - All nn.module subclasses requires you to overwrite forward(), this method defines what happens in the forward computation of the neural network"
      ],
      "metadata": {
        "id": "zIujoCFmHePM"
      }
    },
    {
      "cell_type": "markdown",
      "source": [
        "### Checking out the internals of our PyTorch model"
      ],
      "metadata": {
        "id": "3J8LR_dZKEo8"
      }
    },
    {
      "cell_type": "markdown",
      "source": [
        "#### Checking the content of our PyTorch model\n",
        "\n",
        "Now we've created a model, let's see what's inside.....\n",
        "\n",
        "So, we can check out model parameters or what's inside our model using. Parameters()"
      ],
      "metadata": {
        "id": "dZ-UA0udKtth"
      }
    },
    {
      "cell_type": "code",
      "source": [
        "# Create a random seed\n",
        "torch.manual_seed(42)"
      ],
      "metadata": {
        "colab": {
          "base_uri": "https://localhost:8080/"
        },
        "id": "KiczUi5B9INX",
        "outputId": "199a098d-6bdc-4cf5-acdb-30be4a5d0703"
      },
      "execution_count": 71,
      "outputs": [
        {
          "output_type": "execute_result",
          "data": {
            "text/plain": [
              "<torch._C.Generator at 0x79bf7c2299f0>"
            ]
          },
          "metadata": {},
          "execution_count": 71
        }
      ]
    },
    {
      "cell_type": "code",
      "source": [
        "# Create an instance of the model (this is a subclass of nn.Module)\n",
        "model = LinearRegressionModel()\n",
        "\n",
        "list(model.parameters())"
      ],
      "metadata": {
        "id": "b6T9-Y4Z9IT9",
        "colab": {
          "base_uri": "https://localhost:8080/"
        },
        "outputId": "2ca1b42d-1342-43a7-ad6b-f35fd5e09b7e"
      },
      "execution_count": 73,
      "outputs": [
        {
          "output_type": "execute_result",
          "data": {
            "text/plain": [
              "[Parameter containing:\n",
              " tensor([0.2345], requires_grad=True),\n",
              " Parameter containing:\n",
              " tensor([0.2303], requires_grad=True)]"
            ]
          },
          "metadata": {},
          "execution_count": 73
        }
      ]
    },
    {
      "cell_type": "code",
      "source": [
        "model.state_dict()"
      ],
      "metadata": {
        "colab": {
          "base_uri": "https://localhost:8080/"
        },
        "id": "iVUKcLLrbJWh",
        "outputId": "7d21d3ce-46c9-4f8c-d622-817c2fc6fac6"
      },
      "execution_count": 68,
      "outputs": [
        {
          "output_type": "execute_result",
          "data": {
            "text/plain": [
              "OrderedDict([('weights', tensor([0.3445])), ('bias', tensor([0.1488]))])"
            ]
          },
          "metadata": {},
          "execution_count": 68
        }
      ]
    },
    {
      "cell_type": "code",
      "source": [
        "model"
      ],
      "metadata": {
        "colab": {
          "base_uri": "https://localhost:8080/"
        },
        "id": "4gNyckgo9IaV",
        "outputId": "7f8b14e7-5b50-4470-bbb1-736e869639aa"
      },
      "execution_count": 41,
      "outputs": [
        {
          "output_type": "execute_result",
          "data": {
            "text/plain": [
              "LinearRegressionModel()"
            ]
          },
          "metadata": {},
          "execution_count": 41
        }
      ]
    },
    {
      "cell_type": "code",
      "source": [
        "# Check our the parameters\n",
        "model.parameters()"
      ],
      "metadata": {
        "colab": {
          "base_uri": "https://localhost:8080/"
        },
        "id": "YPzW9lX39IgS",
        "outputId": "0bf2eab3-9e1c-4382-b8d8-51c52be60c0d"
      },
      "execution_count": 42,
      "outputs": [
        {
          "output_type": "execute_result",
          "data": {
            "text/plain": [
              "<generator object Module.parameters at 0x79beadeeedc0>"
            ]
          },
          "metadata": {},
          "execution_count": 42
        }
      ]
    },
    {
      "cell_type": "code",
      "source": [
        "list(model.parameters())"
      ],
      "metadata": {
        "colab": {
          "base_uri": "https://localhost:8080/"
        },
        "id": "v24ERPNy9Imj",
        "outputId": "1b0b31c2-50e0-4fda-c92c-0b70ce48c760"
      },
      "execution_count": 43,
      "outputs": [
        {
          "output_type": "execute_result",
          "data": {
            "text/plain": [
              "[Parameter containing:\n",
              " tensor([0.3367], requires_grad=True),\n",
              " Parameter containing:\n",
              " tensor([0.1288], requires_grad=True)]"
            ]
          },
          "metadata": {},
          "execution_count": 43
        }
      ]
    },
    {
      "cell_type": "code",
      "source": [
        "torch.randn(1)"
      ],
      "metadata": {
        "colab": {
          "base_uri": "https://localhost:8080/"
        },
        "id": "4m_jB8x69JCP",
        "outputId": "377d8f89-ba1b-4db4-8126-05ab74d97bcf"
      },
      "execution_count": 44,
      "outputs": [
        {
          "output_type": "execute_result",
          "data": {
            "text/plain": [
              "tensor([0.2345])"
            ]
          },
          "metadata": {},
          "execution_count": 44
        }
      ]
    },
    {
      "cell_type": "code",
      "source": [
        "torch.randn(1)"
      ],
      "metadata": {
        "colab": {
          "base_uri": "https://localhost:8080/"
        },
        "id": "k9Or1qaD9JJQ",
        "outputId": "72f1f748-3cf3-40ae-d14a-3177ff78c349"
      },
      "execution_count": 45,
      "outputs": [
        {
          "output_type": "execute_result",
          "data": {
            "text/plain": [
              "tensor([0.2303])"
            ]
          },
          "metadata": {},
          "execution_count": 45
        }
      ]
    },
    {
      "cell_type": "code",
      "source": [
        "torch.randn(3)"
      ],
      "metadata": {
        "colab": {
          "base_uri": "https://localhost:8080/"
        },
        "id": "-Bc80uEX9JP6",
        "outputId": "d765f8be-3aaa-40e6-a3ac-78275ab191c4"
      },
      "execution_count": 46,
      "outputs": [
        {
          "output_type": "execute_result",
          "data": {
            "text/plain": [
              "tensor([-1.1229, -0.1863,  2.2082])"
            ]
          },
          "metadata": {},
          "execution_count": 46
        }
      ]
    },
    {
      "cell_type": "code",
      "source": [
        "torch.randn(3)"
      ],
      "metadata": {
        "colab": {
          "base_uri": "https://localhost:8080/"
        },
        "id": "ydEJKP-KeEnK",
        "outputId": "7c940dae-1b4f-42e3-d4a9-8bbb3b346e7a"
      },
      "execution_count": 47,
      "outputs": [
        {
          "output_type": "execute_result",
          "data": {
            "text/plain": [
              "tensor([-0.6380,  0.4617,  0.2674])"
            ]
          },
          "metadata": {},
          "execution_count": 47
        }
      ]
    },
    {
      "cell_type": "code",
      "source": [
        "# List named parameters\n",
        "model.state_dict()"
      ],
      "metadata": {
        "colab": {
          "base_uri": "https://localhost:8080/"
        },
        "id": "TEK565MbL39P",
        "outputId": "77248f9d-afdd-4d1b-f4ac-d6cdb0363b1f"
      },
      "execution_count": 74,
      "outputs": [
        {
          "output_type": "execute_result",
          "data": {
            "text/plain": [
              "OrderedDict([('weights', tensor([0.2345])), ('bias', tensor([0.2303]))])"
            ]
          },
          "metadata": {},
          "execution_count": 74
        }
      ]
    },
    {
      "cell_type": "code",
      "source": [
        "weight, bias"
      ],
      "metadata": {
        "colab": {
          "base_uri": "https://localhost:8080/"
        },
        "id": "9BUMzwyKPmuS",
        "outputId": "3c7db998-03ec-4f93-87cb-1a76f1b0558b"
      },
      "execution_count": 49,
      "outputs": [
        {
          "output_type": "execute_result",
          "data": {
            "text/plain": [
              "(0.7, 0.3)"
            ]
          },
          "metadata": {},
          "execution_count": 49
        }
      ]
    },
    {
      "cell_type": "markdown",
      "source": [
        "### Making Predictions with our random model using torch.inference_mode()\n"
      ],
      "metadata": {
        "id": "__b20NRzQXvj"
      }
    },
    {
      "cell_type": "markdown",
      "source": [
        "To check our model's predictive power, let's see how well it predicts y_test based on x_test.\n",
        "\n",
        "When we pass data through our model, it's going to run it through the forward() method"
      ],
      "metadata": {
        "id": "NrKeXzepQruU"
      }
    },
    {
      "cell_type": "code",
      "source": [
        "X_test"
      ],
      "metadata": {
        "colab": {
          "base_uri": "https://localhost:8080/"
        },
        "id": "D71089_YSBzw",
        "outputId": "828c90bc-a1ee-463c-9817-e21a59ab4d68"
      },
      "execution_count": 50,
      "outputs": [
        {
          "output_type": "execute_result",
          "data": {
            "text/plain": [
              "tensor([[0.8000],\n",
              "        [0.8200],\n",
              "        [0.8400],\n",
              "        [0.8600],\n",
              "        [0.8800],\n",
              "        [0.9000],\n",
              "        [0.9200],\n",
              "        [0.9400],\n",
              "        [0.9600],\n",
              "        [0.9800]])"
            ]
          },
          "metadata": {},
          "execution_count": 50
        }
      ]
    },
    {
      "cell_type": "code",
      "source": [
        "y_preds = model(X_test)\n",
        "y_preds"
      ],
      "metadata": {
        "colab": {
          "base_uri": "https://localhost:8080/"
        },
        "id": "ze-URvVaS9N4",
        "outputId": "e0e3ba3e-30c7-4a75-a03e-3e5c1bf5afec"
      },
      "execution_count": 75,
      "outputs": [
        {
          "output_type": "execute_result",
          "data": {
            "text/plain": [
              "tensor([[0.4179],\n",
              "        [0.4226],\n",
              "        [0.4273],\n",
              "        [0.4320],\n",
              "        [0.4367],\n",
              "        [0.4413],\n",
              "        [0.4460],\n",
              "        [0.4507],\n",
              "        [0.4554],\n",
              "        [0.4601]], grad_fn=<AddBackward0>)"
            ]
          },
          "metadata": {},
          "execution_count": 75
        }
      ]
    },
    {
      "cell_type": "code",
      "source": [
        "# Make predictions with model\n",
        "with torch.inference_mode():\n",
        "  y_preds = model(X_test)\n",
        "\n",
        "y_preds"
      ],
      "metadata": {
        "colab": {
          "base_uri": "https://localhost:8080/"
        },
        "id": "V5kCkwkaPm0m",
        "outputId": "f560a12f-49f0-4cc4-addd-940089ed318b"
      },
      "execution_count": 76,
      "outputs": [
        {
          "output_type": "execute_result",
          "data": {
            "text/plain": [
              "tensor([[0.4179],\n",
              "        [0.4226],\n",
              "        [0.4273],\n",
              "        [0.4320],\n",
              "        [0.4367],\n",
              "        [0.4413],\n",
              "        [0.4460],\n",
              "        [0.4507],\n",
              "        [0.4554],\n",
              "        [0.4601]])"
            ]
          },
          "metadata": {},
          "execution_count": 76
        }
      ]
    },
    {
      "cell_type": "code",
      "source": [
        "# you can also do somothing with torch,no_grad(), however, torch.inference_mode () is preferred\n",
        "with torch.no_grad():\n",
        "  y_preds = model(X_test)\n",
        "\n",
        "y_preds"
      ],
      "metadata": {
        "colab": {
          "base_uri": "https://localhost:8080/"
        },
        "id": "q9AcE2gTT0o0",
        "outputId": "f5f8f4bc-bf85-4c88-87b4-ff1b280b2936"
      },
      "execution_count": 77,
      "outputs": [
        {
          "output_type": "execute_result",
          "data": {
            "text/plain": [
              "tensor([[0.4179],\n",
              "        [0.4226],\n",
              "        [0.4273],\n",
              "        [0.4320],\n",
              "        [0.4367],\n",
              "        [0.4413],\n",
              "        [0.4460],\n",
              "        [0.4507],\n",
              "        [0.4554],\n",
              "        [0.4601]])"
            ]
          },
          "metadata": {},
          "execution_count": 77
        }
      ]
    },
    {
      "cell_type": "code",
      "source": [],
      "metadata": {
        "id": "wj1bghqQT0mU"
      },
      "execution_count": 53,
      "outputs": []
    },
    {
      "cell_type": "code",
      "source": [],
      "metadata": {
        "id": "TssJ8FpPT0j2"
      },
      "execution_count": 53,
      "outputs": []
    },
    {
      "cell_type": "code",
      "source": [
        "plot_predictions(predictions=y_preds)"
      ],
      "metadata": {
        "colab": {
          "base_uri": "https://localhost:8080/",
          "height": 599
        },
        "id": "T6nYxDoDPm7G",
        "outputId": "10eaf3cc-5d69-4e8d-f446-d2fcd5c00784"
      },
      "execution_count": 90,
      "outputs": [
        {
          "output_type": "display_data",
          "data": {
            "text/plain": [
              "<Figure size 1000x700 with 1 Axes>"
            ],
            "image/png": "[encoded data removed]"
          },
          "metadata": {}
        }
      ]
    },
    {
      "cell_type": "markdown",
      "source": [
        "inference mode Twitter\n"
      ],
      "metadata": {
        "id": "QSebAR7ITraq"
      }
    },
    {
      "cell_type": "markdown",
      "source": [
        "## Train model\n",
        "\n",
        "The whole idea of training is for a model to move from some *unknown* parameters (these may be random) to some *known* parameters\n",
        "\n",
        "or in other words from a poor representation of the data to a better representation of the data.\n",
        "\n",
        "One way to measure how poor or how wrong your model predictions are is to use a loss function(another word cost function)\n",
        "\n",
        "* Note: Loss function may also be called cost function or criterion in different area. For our case, we're going to refer to it as a loss function.\n",
        "\n",
        "Things we need to train:\n",
        "* **Loss Function:** A function to measure how wrong your model's predictions are to the ideal outputs, lower is better.\n",
        "\n",
        "* **Optimizer:** Takes into account the loss function and adjusts the model's parameters (e.g. weights and biases) to improve the loss function.\n",
        "\n",
        "And specifically for PyTorch , we need:\n",
        "* A training loop\n",
        "* A testing loop"
      ],
      "metadata": {
        "id": "ZumBtCP-fa8s"
      }
    },
    {
      "cell_type": "code",
      "source": [
        "list(model.parameters())"
      ],
      "metadata": {
        "id": "f1OMqsNVPnBb",
        "colab": {
          "base_uri": "https://localhost:8080/"
        },
        "outputId": "0d4b12a6-2fdf-4d7c-cbbb-2064023ed952"
      },
      "execution_count": 55,
      "outputs": [
        {
          "output_type": "execute_result",
          "data": {
            "text/plain": [
              "[Parameter containing:\n",
              " tensor([0.3367], requires_grad=True),\n",
              " Parameter containing:\n",
              " tensor([0.1288], requires_grad=True)]"
            ]
          },
          "metadata": {},
          "execution_count": 55
        }
      ]
    },
    {
      "cell_type": "code",
      "source": [
        "model.state_dict()"
      ],
      "metadata": {
        "id": "6eWXfcUtPnHk",
        "colab": {
          "base_uri": "https://localhost:8080/"
        },
        "outputId": "eb5a18ac-7ffc-4403-cbb6-f73a2cf171b6"
      },
      "execution_count": 56,
      "outputs": [
        {
          "output_type": "execute_result",
          "data": {
            "text/plain": [
              "OrderedDict([('weights', tensor([0.3367])), ('bias', tensor([0.1288]))])"
            ]
          },
          "metadata": {},
          "execution_count": 56
        }
      ]
    },
    {
      "cell_type": "markdown",
      "source": [
        "### Setting up a loss function and optimizer with PyTorch"
      ],
      "metadata": {
        "id": "nx4fZd1MjKMa"
      }
    },
    {
      "cell_type": "code",
      "source": [
        "# Setup a loss function\n",
        "loss_fn = nn.L1Loss()\n",
        "\n",
        "# setup an optimizer\n",
        "optimizer = torch.optim.SGD(model.parameters(), lr=0.01)"
      ],
      "metadata": {
        "id": "928ik28ZPnUZ"
      },
      "execution_count": 78,
      "outputs": []
    },
    {
      "cell_type": "code",
      "source": [
        "loss_fn"
      ],
      "metadata": {
        "id": "z8gIz7RhPnaR",
        "colab": {
          "base_uri": "https://localhost:8080/"
        },
        "outputId": "8facc6ab-9870-406a-c67f-fcc55ec4704e"
      },
      "execution_count": 58,
      "outputs": [
        {
          "output_type": "execute_result",
          "data": {
            "text/plain": [
              "L1Loss()"
            ]
          },
          "metadata": {},
          "execution_count": 58
        }
      ]
    },
    {
      "cell_type": "markdown",
      "source": [
        "*Q* which loss function and optimizer should i use?\n",
        "\n",
        "*A:* This will be problem-specific, But with experience, you'll get an idea of what works and what doesn't with particular model.\n",
        "\n",
        "For example, for a regression problem (like ours), a loss function of nn.L1Loss\n",
        "and an optimizer like torch.optim.SGD() will suffice.\n",
        "\n",
        "But for a classification problem like classifying whether a photo is of a dog or a cat, you'll likely want to use a loss function of nn.BECLoss (binary cross entropy)."
      ],
      "metadata": {
        "id": "kWVwru6kJXYf"
      }
    },
    {
      "cell_type": "markdown",
      "source": [
        "### Building a training loop(and a testing loop) in PyTorch\n",
        "\n",
        "A couple of things we need in a traning loop:\n",
        "\n",
        "0. Loop through the data\n",
        "1. Forward pass (this involves data moving through our model's forward() functions) to make prediction on data- also called Forward propagation\n",
        "2. Calculate the loss (compare forward pass predictions to ground truth labels)\n",
        "3. Optimizer zero grad\n",
        "4. Loss backward - move backward through  the network to calculate the gradient of each of the parameters of our model with respect to the loss(**backpropagation**)\n",
        "5. optimizer step - use the optimizer to adjust our model's parameters to try and improve the loss (**gradient descent**)"
      ],
      "metadata": {
        "id": "NLWgiyLKLL0N"
      }
    },
    {
      "cell_type": "code",
      "source": [
        "list(model.eval().parameters())"
      ],
      "metadata": {
        "colab": {
          "base_uri": "https://localhost:8080/"
        },
        "id": "s99xK8e1OIq2",
        "outputId": "226a026f-e01d-4b00-9ef2-cc4659012b30"
      },
      "execution_count": 61,
      "outputs": [
        {
          "output_type": "execute_result",
          "data": {
            "text/plain": [
              "[Parameter containing:\n",
              " tensor([0.3367], requires_grad=True),\n",
              " Parameter containing:\n",
              " tensor([0.1288], requires_grad=True)]"
            ]
          },
          "metadata": {},
          "execution_count": 61
        }
      ]
    },
    {
      "cell_type": "code",
      "source": [
        "with torch.no_grad():\n",
        "  list(model.parameters())"
      ],
      "metadata": {
        "id": "CtF0NtVdOTWZ"
      },
      "execution_count": 62,
      "outputs": []
    },
    {
      "cell_type": "code",
      "source": [
        "list(model.parameters())"
      ],
      "metadata": {
        "colab": {
          "base_uri": "https://localhost:8080/"
        },
        "id": "N00WPtyjN4LL",
        "outputId": "c8ba73d1-ef54-4926-df3f-f0c5bdde58f4"
      },
      "execution_count": 60,
      "outputs": [
        {
          "output_type": "execute_result",
          "data": {
            "text/plain": [
              "[Parameter containing:\n",
              " tensor([0.3367], requires_grad=True),\n",
              " Parameter containing:\n",
              " tensor([0.1288], requires_grad=True)]"
            ]
          },
          "metadata": {},
          "execution_count": 60
        }
      ]
    },
    {
      "cell_type": "code",
      "source": [
        "torch.manual_seed(42)\n",
        "\n",
        "# An epoch is one loop through the data... (this is a hyperparameter because we've set it ourselves)\n",
        "epochs = 100\n",
        "\n",
        "# Training\n",
        "# 0. Loop through the data\n",
        "for epoch in range(epochs):\n",
        "  # set the model to training mode\n",
        "  model.train() # train mode i PyTorch set all parameters the required gradient to require gradients\n",
        "\n",
        "  # 1. Forward pass\n",
        "  y_pred  = model(X_train)\n",
        "\n",
        "  # 2. Calculate loss\n",
        "  loss = loss_fn(y_pred, y_train)\n",
        "  print(f\"Loss: {loss}\")\n",
        "\n",
        "  # 3. Optimizer zero grad\n",
        "  optimizer.zero_grad()\n",
        "\n",
        "  # 4. Loss backpropagation on the loss with respect to the parameters of the model\n",
        "  loss.backward()\n",
        "\n",
        "  # 5. Step the optimizer (perform gradient descent)\n",
        "  optimizer.step() # by default how the optimizer changes will accumulate through the loop so... we have to zero them above in step 3 for the next iteration of the loop\n",
        "\n",
        "  ### Testing\n",
        "  model.eval() # turns off gradient tracking\n",
        "\n",
        "  # Print out model state_dict()\n",
        "  print(model.state_dict())"
      ],
      "metadata": {
        "id": "-_xTxIDNPngb",
        "colab": {
          "base_uri": "https://localhost:8080/"
        },
        "outputId": "7e6a9475-08e1-4c12-f7e5-9f35bce7b26c"
      },
      "execution_count": 101,
      "outputs": [
        {
          "output_type": "stream",
          "name": "stdout",
          "text": [
            "Loss: 0.10522427409887314\n",
            "OrderedDict([('weights', tensor([0.2994])), ('bias', tensor([0.3743]))])\n",
            "Loss: 0.10105693340301514\n",
            "OrderedDict([('weights', tensor([0.3028])), ('bias', tensor([0.3793]))])\n",
            "Loss: 0.09736667573451996\n",
            "OrderedDict([('weights', tensor([0.3063])), ('bias', tensor([0.3843]))])\n",
            "Loss: 0.09395559877157211\n",
            "OrderedDict([('weights', tensor([0.3096])), ('bias', tensor([0.3888]))])\n",
            "Loss: 0.09095562994480133\n",
            "OrderedDict([('weights', tensor([0.3128])), ('bias', tensor([0.3928]))])\n",
            "Loss: 0.08830587565898895\n",
            "OrderedDict([('weights', tensor([0.3161])), ('bias', tensor([0.3968]))])\n",
            "Loss: 0.0858907550573349\n",
            "OrderedDict([('weights', tensor([0.3192])), ('bias', tensor([0.4003]))])\n",
            "Loss: 0.08375857770442963\n",
            "OrderedDict([('weights', tensor([0.3222])), ('bias', tensor([0.4033]))])\n",
            "Loss: 0.08196456730365753\n",
            "OrderedDict([('weights', tensor([0.3252])), ('bias', tensor([0.4063]))])\n",
            "Loss: 0.08023977279663086\n",
            "OrderedDict([('weights', tensor([0.3280])), ('bias', tensor([0.4088]))])\n",
            "Loss: 0.07880252599716187\n",
            "OrderedDict([('weights', tensor([0.3309])), ('bias', tensor([0.4113]))])\n",
            "Loss: 0.07739516347646713\n",
            "OrderedDict([('weights', tensor([0.3336])), ('bias', tensor([0.4133]))])\n",
            "Loss: 0.07626615464687347\n",
            "OrderedDict([('weights', tensor([0.3363])), ('bias', tensor([0.4153]))])\n",
            "Loss: 0.07513715326786041\n",
            "OrderedDict([('weights', tensor([0.3390])), ('bias', tensor([0.4173]))])\n",
            "Loss: 0.07409852743148804\n",
            "OrderedDict([('weights', tensor([0.3415])), ('bias', tensor([0.4188]))])\n",
            "Loss: 0.0732283666729927\n",
            "OrderedDict([('weights', tensor([0.3441])), ('bias', tensor([0.4203]))])\n",
            "Loss: 0.07235820591449738\n",
            "OrderedDict([('weights', tensor([0.3466])), ('bias', tensor([0.4218]))])\n",
            "Loss: 0.07157193124294281\n",
            "OrderedDict([('weights', tensor([0.3490])), ('bias', tensor([0.4228]))])\n",
            "Loss: 0.0709102526307106\n",
            "OrderedDict([('weights', tensor([0.3513])), ('bias', tensor([0.4238]))])\n",
            "Loss: 0.0702485591173172\n",
            "OrderedDict([('weights', tensor([0.3537])), ('bias', tensor([0.4248]))])\n",
            "Loss: 0.0695953443646431\n",
            "OrderedDict([('weights', tensor([0.3559])), ('bias', tensor([0.4253]))])\n",
            "Loss: 0.06909073889255524\n",
            "OrderedDict([('weights', tensor([0.3581])), ('bias', tensor([0.4258]))])\n",
            "Loss: 0.06858612596988678\n",
            "OrderedDict([('weights', tensor([0.3603])), ('bias', tensor([0.4263]))])\n",
            "Loss: 0.06808152049779892\n",
            "OrderedDict([('weights', tensor([0.3625])), ('bias', tensor([0.4268]))])\n",
            "Loss: 0.06757690757513046\n",
            "OrderedDict([('weights', tensor([0.3647])), ('bias', tensor([0.4273]))])\n",
            "Loss: 0.0670723021030426\n",
            "OrderedDict([('weights', tensor([0.3669])), ('bias', tensor([0.4278]))])\n",
            "Loss: 0.06662953644990921\n",
            "OrderedDict([('weights', tensor([0.3689])), ('bias', tensor([0.4278]))])\n",
            "Loss: 0.06622954457998276\n",
            "OrderedDict([('weights', tensor([0.3709])), ('bias', tensor([0.4278]))])\n",
            "Loss: 0.06582953780889511\n",
            "OrderedDict([('weights', tensor([0.3729])), ('bias', tensor([0.4278]))])\n",
            "Loss: 0.06542953848838806\n",
            "OrderedDict([('weights', tensor([0.3749])), ('bias', tensor([0.4278]))])\n",
            "Loss: 0.06502953171730042\n",
            "OrderedDict([('weights', tensor([0.3769])), ('bias', tensor([0.4278]))])\n",
            "Loss: 0.06462953239679337\n",
            "OrderedDict([('weights', tensor([0.3789])), ('bias', tensor([0.4278]))])\n",
            "Loss: 0.06422953307628632\n",
            "OrderedDict([('weights', tensor([0.3809])), ('bias', tensor([0.4278]))])\n",
            "Loss: 0.06383822858333588\n",
            "OrderedDict([('weights', tensor([0.3827])), ('bias', tensor([0.4273]))])\n",
            "Loss: 0.06348922103643417\n",
            "OrderedDict([('weights', tensor([0.3845])), ('bias', tensor([0.4268]))])\n",
            "Loss: 0.06314022839069366\n",
            "OrderedDict([('weights', tensor([0.3863])), ('bias', tensor([0.4263]))])\n",
            "Loss: 0.06279122084379196\n",
            "OrderedDict([('weights', tensor([0.3881])), ('bias', tensor([0.4258]))])\n",
            "Loss: 0.062442224472761154\n",
            "OrderedDict([('weights', tensor([0.3899])), ('bias', tensor([0.4253]))])\n",
            "Loss: 0.06209322810173035\n",
            "OrderedDict([('weights', tensor([0.3917])), ('bias', tensor([0.4248]))])\n",
            "Loss: 0.06174423545598984\n",
            "OrderedDict([('weights', tensor([0.3935])), ('bias', tensor([0.4243]))])\n",
            "Loss: 0.061395227909088135\n",
            "OrderedDict([('weights', tensor([0.3953])), ('bias', tensor([0.4238]))])\n",
            "Loss: 0.06104623153805733\n",
            "OrderedDict([('weights', tensor([0.3971])), ('bias', tensor([0.4233]))])\n",
            "Loss: 0.06069723516702652\n",
            "OrderedDict([('weights', tensor([0.3989])), ('bias', tensor([0.4228]))])\n",
            "Loss: 0.06034822016954422\n",
            "OrderedDict([('weights', tensor([0.4007])), ('bias', tensor([0.4223]))])\n",
            "Loss: 0.05999922752380371\n",
            "OrderedDict([('weights', tensor([0.4025])), ('bias', tensor([0.4218]))])\n",
            "Loss: 0.0596502311527729\n",
            "OrderedDict([('weights', tensor([0.4043])), ('bias', tensor([0.4213]))])\n",
            "Loss: 0.0593012273311615\n",
            "OrderedDict([('weights', tensor([0.4061])), ('bias', tensor([0.4208]))])\n",
            "Loss: 0.058952223509550095\n",
            "OrderedDict([('weights', tensor([0.4079])), ('bias', tensor([0.4203]))])\n",
            "Loss: 0.05860321968793869\n",
            "OrderedDict([('weights', tensor([0.4097])), ('bias', tensor([0.4198]))])\n",
            "Loss: 0.058254219591617584\n",
            "OrderedDict([('weights', tensor([0.4115])), ('bias', tensor([0.4193]))])\n",
            "Loss: 0.057905226945877075\n",
            "OrderedDict([('weights', tensor([0.4133])), ('bias', tensor([0.4188]))])\n",
            "Loss: 0.05755623057484627\n",
            "OrderedDict([('weights', tensor([0.4151])), ('bias', tensor([0.4183]))])\n",
            "Loss: 0.05720722675323486\n",
            "OrderedDict([('weights', tensor([0.4169])), ('bias', tensor([0.4178]))])\n",
            "Loss: 0.056858230382204056\n",
            "OrderedDict([('weights', tensor([0.4187])), ('bias', tensor([0.4173]))])\n",
            "Loss: 0.05650923401117325\n",
            "OrderedDict([('weights', tensor([0.4205])), ('bias', tensor([0.4168]))])\n",
            "Loss: 0.056160230189561844\n",
            "OrderedDict([('weights', tensor([0.4223])), ('bias', tensor([0.4163]))])\n",
            "Loss: 0.05581122636795044\n",
            "OrderedDict([('weights', tensor([0.4241])), ('bias', tensor([0.4158]))])\n",
            "Loss: 0.05546222999691963\n",
            "OrderedDict([('weights', tensor([0.4259])), ('bias', tensor([0.4153]))])\n",
            "Loss: 0.05512279272079468\n",
            "OrderedDict([('weights', tensor([0.4274])), ('bias', tensor([0.4143]))])\n",
            "Loss: 0.05477702617645264\n",
            "OrderedDict([('weights', tensor([0.4292])), ('bias', tensor([0.4138]))])\n",
            "Loss: 0.05443377420306206\n",
            "OrderedDict([('weights', tensor([0.4308])), ('bias', tensor([0.4128]))])\n",
            "Loss: 0.05409182980656624\n",
            "OrderedDict([('weights', tensor([0.4326])), ('bias', tensor([0.4123]))])\n",
            "Loss: 0.053744763135910034\n",
            "OrderedDict([('weights', tensor([0.4342])), ('bias', tensor([0.4113]))])\n",
            "Loss: 0.05340662598609924\n",
            "OrderedDict([('weights', tensor([0.4360])), ('bias', tensor([0.4108]))])\n",
            "Loss: 0.05305762216448784\n",
            "OrderedDict([('weights', tensor([0.4378])), ('bias', tensor([0.4103]))])\n",
            "Loss: 0.05271955579519272\n",
            "OrderedDict([('weights', tensor([0.4394])), ('bias', tensor([0.4093]))])\n",
            "Loss: 0.05237242579460144\n",
            "OrderedDict([('weights', tensor([0.4412])), ('bias', tensor([0.4088]))])\n",
            "Loss: 0.05203055217862129\n",
            "OrderedDict([('weights', tensor([0.4428])), ('bias', tensor([0.4078]))])\n",
            "Loss: 0.05168722942471504\n",
            "OrderedDict([('weights', tensor([0.4446])), ('bias', tensor([0.4073]))])\n",
            "Loss: 0.05134153366088867\n",
            "OrderedDict([('weights', tensor([0.4462])), ('bias', tensor([0.4063]))])\n",
            "Loss: 0.05100201815366745\n",
            "OrderedDict([('weights', tensor([0.4480])), ('bias', tensor([0.4058]))])\n",
            "Loss: 0.050653018057346344\n",
            "OrderedDict([('weights', tensor([0.4498])), ('bias', tensor([0.4053]))])\n",
            "Loss: 0.050316326320171356\n",
            "OrderedDict([('weights', tensor([0.4514])), ('bias', tensor([0.4043]))])\n",
            "Loss: 0.049967821687459946\n",
            "OrderedDict([('weights', tensor([0.4532])), ('bias', tensor([0.4038]))])\n",
            "Loss: 0.04962732270359993\n",
            "OrderedDict([('weights', tensor([0.4548])), ('bias', tensor([0.4028]))])\n",
            "Loss: 0.04928262159228325\n",
            "OrderedDict([('weights', tensor([0.4566])), ('bias', tensor([0.4023]))])\n",
            "Loss: 0.04893830046057701\n",
            "OrderedDict([('weights', tensor([0.4582])), ('bias', tensor([0.4013]))])\n",
            "Loss: 0.048597414046525955\n",
            "OrderedDict([('weights', tensor([0.4600])), ('bias', tensor([0.4008]))])\n",
            "Loss: 0.048249296844005585\n",
            "OrderedDict([('weights', tensor([0.4616])), ('bias', tensor([0.3998]))])\n",
            "Loss: 0.04791221022605896\n",
            "OrderedDict([('weights', tensor([0.4634])), ('bias', tensor([0.3993]))])\n",
            "Loss: 0.04756321385502815\n",
            "OrderedDict([('weights', tensor([0.4652])), ('bias', tensor([0.3988]))])\n",
            "Loss: 0.04722408950328827\n",
            "OrderedDict([('weights', tensor([0.4667])), ('bias', tensor([0.3978]))])\n",
            "Loss: 0.04687801003456116\n",
            "OrderedDict([('weights', tensor([0.4685])), ('bias', tensor([0.3973]))])\n",
            "Loss: 0.04653507471084595\n",
            "OrderedDict([('weights', tensor([0.4701])), ('bias', tensor([0.3963]))])\n",
            "Loss: 0.04619280621409416\n",
            "OrderedDict([('weights', tensor([0.4719])), ('bias', tensor([0.3958]))])\n",
            "Loss: 0.04584606736898422\n",
            "OrderedDict([('weights', tensor([0.4735])), ('bias', tensor([0.3948]))])\n",
            "Loss: 0.04550761356949806\n",
            "OrderedDict([('weights', tensor([0.4753])), ('bias', tensor([0.3943]))])\n",
            "Loss: 0.045158613473176956\n",
            "OrderedDict([('weights', tensor([0.4771])), ('bias', tensor([0.3938]))])\n",
            "Loss: 0.04482085630297661\n",
            "OrderedDict([('weights', tensor([0.4787])), ('bias', tensor([0.3928]))])\n",
            "Loss: 0.04447340965270996\n",
            "OrderedDict([('weights', tensor([0.4805])), ('bias', tensor([0.3923]))])\n",
            "Loss: 0.044131845235824585\n",
            "OrderedDict([('weights', tensor([0.4821])), ('bias', tensor([0.3913]))])\n",
            "Loss: 0.043788205832242966\n",
            "OrderedDict([('weights', tensor([0.4839])), ('bias', tensor([0.3908]))])\n",
            "Loss: 0.04344283789396286\n",
            "OrderedDict([('weights', tensor([0.4855])), ('bias', tensor([0.3898]))])\n",
            "Loss: 0.04310300946235657\n",
            "OrderedDict([('weights', tensor([0.4873])), ('bias', tensor([0.3893]))])\n",
            "Loss: 0.04275400936603546\n",
            "OrderedDict([('weights', tensor([0.4891])), ('bias', tensor([0.3888]))])\n",
            "Loss: 0.04241762310266495\n",
            "OrderedDict([('weights', tensor([0.4907])), ('bias', tensor([0.3878]))])\n",
            "Loss: 0.042068805545568466\n",
            "OrderedDict([('weights', tensor([0.4925])), ('bias', tensor([0.3873]))])\n",
            "Loss: 0.04172861576080322\n",
            "OrderedDict([('weights', tensor([0.4941])), ('bias', tensor([0.3863]))])\n",
            "Loss: 0.04138360545039177\n",
            "OrderedDict([('weights', tensor([0.4959])), ('bias', tensor([0.3858]))])\n",
            "Loss: 0.0410396046936512\n",
            "OrderedDict([('weights', tensor([0.4975])), ('bias', tensor([0.3848]))])\n"
          ]
        }
      ]
    },
    {
      "cell_type": "code",
      "source": [
        "model.state_dict()"
      ],
      "metadata": {
        "id": "oaW_OjvmPnmM",
        "colab": {
          "base_uri": "https://localhost:8080/"
        },
        "outputId": "33398b0c-79d8-4aed-e919-e66b43963766"
      },
      "execution_count": 88,
      "outputs": [
        {
          "output_type": "execute_result",
          "data": {
            "text/plain": [
              "OrderedDict([('weights', tensor([0.2540])), ('bias', tensor([0.2803]))])"
            ]
          },
          "metadata": {},
          "execution_count": 88
        }
      ]
    },
    {
      "cell_type": "code",
      "source": [],
      "metadata": {
        "id": "oFtJZbnVdMi7"
      },
      "execution_count": null,
      "outputs": []
    },
    {
      "cell_type": "code",
      "source": [
        "weight, bias"
      ],
      "metadata": {
        "id": "OoMMgsBoPnsg",
        "colab": {
          "base_uri": "https://localhost:8080/"
        },
        "outputId": "61de8e80-ed71-46d2-96dd-1f73081cae4d"
      },
      "execution_count": 81,
      "outputs": [
        {
          "output_type": "execute_result",
          "data": {
            "text/plain": [
              "(0.7, 0.3)"
            ]
          },
          "metadata": {},
          "execution_count": 81
        }
      ]
    },
    {
      "cell_type": "code",
      "source": [
        "plot_predictions(predictions=y_preds)"
      ],
      "metadata": {
        "colab": {
          "base_uri": "https://localhost:8080/",
          "height": 599
        },
        "id": "8H_yFwEVdNmd",
        "outputId": "ad037b86-1a15-4ab1-ae08-4ea60e85f8cd"
      },
      "execution_count": 102,
      "outputs": [
        {
          "output_type": "display_data",
          "data": {
            "text/plain": [
              "<Figure size 1000x700 with 1 Axes>"
            ],
            "image/png": "[encoded data removed]"
          },
          "metadata": {}
        }
      ]
    },
    {
      "cell_type": "code",
      "source": [
        "with torch.inference_mode():\n",
        "  y_preds_new = model(X_test)\n",
        "\n",
        "plot_predictions(predictions=y_preds_new)"
      ],
      "metadata": {
        "colab": {
          "base_uri": "https://localhost:8080/",
          "height": 599
        },
        "id": "lvAUca8mdNsr",
        "outputId": "e5c7d0e5-b43f-45bb-967f-72d8e8d40bd6"
      },
      "execution_count": 103,
      "outputs": [
        {
          "output_type": "display_data",
          "data": {
            "text/plain": [
              "<Figure size 1000x700 with 1 Axes>"
            ],
            "image/png": "[encoded data removed]"
          },
          "metadata": {}
        }
      ]
    },
    {
      "cell_type": "code",
      "source": [],
      "metadata": {
        "id": "a1Bdem2udd8u"
      },
      "execution_count": null,
      "outputs": []
    }
  ]
}