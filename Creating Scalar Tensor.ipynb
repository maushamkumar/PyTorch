{
 "cells": [
  {
   "cell_type": "markdown",
   "id": "83aab3f7-134c-4492-9631-599ea0c8418d",
   "metadata": {},
   "source": [
    "## Scalar"
   ]
  },
  {
   "cell_type": "code",
   "execution_count": 3,
   "id": "92aba842-1fd5-4c29-8819-53649b06d71e",
   "metadata": {},
   "outputs": [
    {
     "data": {
      "text/plain": [
       "tensor(7)"
      ]
     },
     "execution_count": 3,
     "metadata": {},
     "output_type": "execute_result"
    }
   ],
   "source": [
    "# Import PyTorch\n",
    "import torch\n",
    "\n",
    "# Let's create scalar tensor\n",
    "scalar = torch.tensor(7)\n",
    "scalar"
   ]
  },
  {
   "cell_type": "code",
   "execution_count": 4,
   "id": "f64e99e5-798a-4581-9542-274130cf5f84",
   "metadata": {},
   "outputs": [
    {
     "data": {
      "text/plain": [
       "0"
      ]
     },
     "execution_count": 4,
     "metadata": {},
     "output_type": "execute_result"
    }
   ],
   "source": [
    "scalar.ndim"
   ]
  },
  {
   "cell_type": "code",
   "execution_count": 5,
   "id": "0342f981-aa81-4363-bb93-a2fe662f25c5",
   "metadata": {},
   "outputs": [
    {
     "data": {
      "text/plain": [
       "7"
      ]
     },
     "execution_count": 5,
     "metadata": {},
     "output_type": "execute_result"
    }
   ],
   "source": [
    "# Get the Python number within a tensor (only works with one-element tensors)\n",
    "scalar.item()"
   ]
  },
  {
   "cell_type": "code",
   "execution_count": 6,
   "id": "d94dd5df-63e2-4c29-8bc0-015327ab2a47",
   "metadata": {},
   "outputs": [],
   "source": [
    "# That was all about the Scalar tensor. Let's play with Scalar tensor\n",
    "# create your own problem or tensor \n",
    "# In my case I would like to create a Scalar tensor of 2 because it is my birthday date.\n",
    "# Let's create it  and run all the code which we've learn above\n",
    "# I will assign variable of my name \n",
    "Mausham = torch.tensor(2)"
   ]
  },
  {
   "cell_type": "code",
   "execution_count": 7,
   "id": "90d85aa1-8974-486f-ba54-5b439f6abe02",
   "metadata": {},
   "outputs": [
    {
     "data": {
      "text/plain": [
       "tensor(2)"
      ]
     },
     "execution_count": 7,
     "metadata": {},
     "output_type": "execute_result"
    }
   ],
   "source": [
    "Mausham"
   ]
  },
  {
   "cell_type": "code",
   "execution_count": 8,
   "id": "7ea6b7ec-6bd0-4d87-8040-63f83e9bdb9f",
   "metadata": {},
   "outputs": [
    {
     "data": {
      "text/plain": [
       "0"
      ]
     },
     "execution_count": 8,
     "metadata": {},
     "output_type": "execute_result"
    }
   ],
   "source": [
    "# Let's check ndim of the tensor\n",
    "Mausham.ndim"
   ]
  },
  {
   "cell_type": "code",
   "execution_count": 9,
   "id": "3aba89ec-ccdd-4f07-9c50-fc5f2cc9fb48",
   "metadata": {},
   "outputs": [
    {
     "data": {
      "text/plain": [
       "<function Tensor.size>"
      ]
     },
     "execution_count": 9,
     "metadata": {},
     "output_type": "execute_result"
    }
   ],
   "source": [
    "Mausham.size"
   ]
  },
  {
   "cell_type": "code",
   "execution_count": 10,
   "id": "a25bd156-b114-41bd-9913-15c306313fac",
   "metadata": {},
   "outputs": [
    {
     "data": {
      "text/plain": [
       "2"
      ]
     },
     "execution_count": 10,
     "metadata": {},
     "output_type": "execute_result"
    }
   ],
   "source": [
    "Mausham.item()"
   ]
  },
  {
   "cell_type": "code",
   "execution_count": null,
   "id": "b9d71490-d6f1-4cc0-8aaf-05a68c9681bf",
   "metadata": {},
   "outputs": [],
   "source": []
  }
 ],
 "metadata": {
  "kernelspec": {
   "display_name": "Python 3 (ipykernel)",
   "language": "python",
   "name": "python3"
  },
  "language_info": {
   "codemirror_mode": {
    "name": "ipython",
    "version": 3
   },
   "file_extension": ".py",
   "mimetype": "text/x-python",
   "name": "python",
   "nbconvert_exporter": "python",
   "pygments_lexer": "ipython3",
   "version": "3.11.5"
  }
 },
 "nbformat": 4,
 "nbformat_minor": 5
}
